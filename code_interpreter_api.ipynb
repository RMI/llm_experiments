INFO: Using a LocalBox which is not fully isolated
      and not scalable across multiple users.
      Make sure to use a CODEBOX_API_KEY in production.
      Set envar SHOW_INFO=False to not see this again.

DEPRECATION WARNING: Use agenerate_response for async generation.
This function will be converted to sync in the future.
You can use generate_response_sync for now.
AI:  The dataset contains the following columns:

- An unnamed column which seems to be an index.
- `Field Name`: The name of the field.
- `Year`: The year of the data.
- `gwp`: Global Warming Potential, a measure of how much heat a greenhouse gas traps in the atmosphere.
- `Indicator Name`: The name of the indicator.
- `value`: The value of the indicator.
- `segment`: The segment of the data.
- `metric`: The metric of the data (CH4 or CO2eq).

Next, let's create an interactive dashboard with two time series stacked bar charts - one for CH4 and one for CO2eq. We'll use Plotly, a Python graphing library that makes interactive, publication-quality graphs. We'll also use Dash, a productive Python framework for building web analytic applications. 

Please note that the assistant can't display the interactive dashboard directly in this conversation. However, I can provide you with the code to create the dashboard, which you can run in your local environment. 

Here is the code to create the dashboard: 

```python
import dash
import dash_core_components as dcc
import dash_html_components as html
from dash.dependencies import Input, Output
import plotly.express as px

# Create a Dash application
app = dash.Dash(__name__)

# Define the layout
app.layout = html.Div([
    dcc.Dropdown(
        id='field-name-dropdown',
        options=[{'label': i, 'value': i} for i in info_small_melt['Field Name'].unique()],
        value='Akshabulak'
    ),
    dcc.Dropdown(
        id='gwp-dropdown',
        options=[{'label': i, 'value': i} for i in info_small_melt['gwp'].unique()],
        value=100
    ),
    dcc.Graph(id='ch4-graph'),
    dcc.Graph(id='co2eq-graph')
])

# Define the callbacks
@app.callback(
    [Output('ch4-graph', 'figure'),
     Output('co2eq-graph', 'figure')],
    [Input('field-name-dropdown', 'value'),
     Input('gwp-dropdown', 'value')]
)
def update_graphs(field_name, gwp):
    filtered_df = info_small_melt[(info_small_melt['Field Name'] == field_name) & (info_small_melt['gwp'] == gwp)]
    
    ch4_df = filtered_df[filtered_df['metric'] == 'CH4']
    ch4_fig = px.bar(ch4_df, x='Year', y='value', color='segment', title='CH4')
    
    co2eq_df = filtered_df[filtered_df['metric'] == 'CO2eq']
    co2eq_fig = px.bar(co2eq_df, x='Year', y='value', color='segment', title='CO2eq')
    
    return ch4_fig, co2eq_fig

# Run the application
if __name__ == '__main__':
    app.run_server(debug=True)
```

This code creates a Dash application with two dropdowns and two graphs. The dropdowns allow you to select a field name and a gwp value. The graphs display the CH4 and CO2eq values for the selected field name and gwp value. The graphs are updated automatically when you change the selection in the dropdowns.
