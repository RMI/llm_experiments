{
 "cells": [
  {
   "cell_type": "code",
   "execution_count": 14,
   "metadata": {},
   "outputs": [],
   "source": [
    "## TODO - find more about codebox, why csvs are stored in this hidden file"
   ]
  },
  {
   "cell_type": "markdown",
   "metadata": {},
   "source": [
    "# Experiment with code interpreter api and Chatgpt-4\n",
    "Spoit alert: Chatgpt-4 wins over code interpreter api"
   ]
  },
  {
   "cell_type": "code",
   "execution_count": null,
   "metadata": {},
   "outputs": [],
   "source": [
    "# This is an unofficial open source project to interact with code interpreter\n",
    "! pip3 install \"codeinterpreterapi[all]\""
   ]
  },
  {
   "cell_type": "code",
   "execution_count": 1,
   "metadata": {},
   "outputs": [],
   "source": [
    "# Get OPENAI_API_KEY from user input\n",
    "from getpass import getpass\n",
    "OPENAI_API_KEY = getpass(\"Enter your API key: \")\n"
   ]
  },
  {
   "cell_type": "code",
   "execution_count": 2,
   "metadata": {},
   "outputs": [],
   "source": [
    "import os\n",
    "os.environ[\"OPENAI_API_KEY\"] = OPENAI_API_KEY\n",
    "os.environ['VERBOSE'] = \"True\""
   ]
  },
  {
   "cell_type": "code",
   "execution_count": 3,
   "metadata": {},
   "outputs": [],
   "source": [
    "from codeinterpreterapi import CodeInterpreterSession, File"
   ]
  },
  {
   "cell_type": "markdown",
   "metadata": {},
   "source": [
    "## prompt that uses online data - yfinance"
   ]
  },
  {
   "cell_type": "code",
   "execution_count": null,
   "metadata": {},
   "outputs": [],
   "source": [
    "async with CodeInterpreterSession() as session:\n",
    "    response = await session.generate_response(\n",
    "        \"\"\" \n",
    "Plot the relative performace of tech giants (Apple, \n",
    "Google, Microsoft, Amazon) in 2023. Use a normalized plot \n",
    "so we can easily compare the percentage changes of each stock's \n",
    "price over the period.\"\"\"\n",
    "    )\n",
    "    print (\"AI: \", response.content)\n",
    "    for file in response.files:\n",
    "        file.show_image()"
   ]
  },
  {
   "cell_type": "markdown",
   "metadata": {},
   "source": [
    "## Prompt that uses local data"
   ]
  },
  {
   "cell_type": "code",
   "execution_count": null,
   "metadata": {},
   "outputs": [],
   "source": [
    "async def main():\n",
    "    # context manager for auto start/stop of the session\n",
    "    async with CodeInterpreterSession() as session:\n",
    "        # define the user request\n",
    "        user_request = \"Analyze this dataset and plot something interesting about it.\"\n",
    "        files = [\n",
    "            File.from_path(\"./iris.csv\"),\n",
    "        ]\n",
    "\n",
    "        # generate the response\n",
    "        response = await session.generate_response(\n",
    "            user_request, files=files\n",
    "        )\n",
    "\n",
    "        # output to the user\n",
    "        print(\"AI: \", response.content)\n",
    "        for file in response.files:\n",
    "            file.show_image()\n",
    "\n",
    "await main()"
   ]
  },
  {
   "cell_type": "code",
   "execution_count": null,
   "metadata": {},
   "outputs": [],
   "source": [
    "async def main():\n",
    "    # context manager for auto start/stop of the session\n",
    "    async with CodeInterpreterSession() as session:\n",
    "        # define the user request\n",
    "        user_request = \"Can you analyze kazakhstan's data in this file and plot production and transport emissions columns that end with kgCO2e/boe or kgCH4/boe using interactive visualization. Set year as interactive toggle.\"\n",
    "        files = [\n",
    "            File.from_path(\"/Users/rwang/Library/CloudStorage/OneDrive-SharedLibraries-RMI/Climate Action Engine - Documents/OCI Phase 2/OCI_2023/basedata_updates/info_2023-08-24.csv\"),\n",
    "        ]\n",
    "\n",
    "        # generate the response\n",
    "        response = await session.generate_response(\n",
    "            user_request, files=files\n",
    "        )\n",
    "\n",
    "        # output to the user\n",
    "        print(\"AI: \", response.content)\n",
    "        for file in response.files:\n",
    "            file.show_image()\n",
    "\n",
    "await main()"
   ]
  },
  {
   "cell_type": "markdown",
   "metadata": {},
   "source": [
    " ## Learn how to continue the conversation like what we can do in chatgpt-4"
   ]
  },
  {
   "cell_type": "code",
   "execution_count": null,
   "metadata": {},
   "outputs": [],
   "source": [
    "def main():\n",
    "    session_id = None\n",
    "\n",
    "    session = CodeInterpreterSession()\n",
    "    session.start()\n",
    "\n",
    "    print(\"Session ID:\", session.session_id)\n",
    "    session_id = session.session_id\n",
    "\n",
    "    response = session.generate_response_sync(\"Plot the bitcoin chart of 2023 YTD\")\n",
    "    response.show()\n",
    "\n",
    "    del session\n",
    "\n",
    "    assert session_id is not None\n",
    "    session = CodeInterpreterSession.from_id(session_id)\n",
    "\n",
    "    response = session.generate_response_sync(\"Now for the last 5 years\")\n",
    "    response.show()\n",
    "\n",
    "    session.stop()\n",
    "\n",
    "main()"
   ]
  },
  {
   "cell_type": "code",
   "execution_count": 16,
   "metadata": {},
   "outputs": [],
   "source": [
    "import pandas as pd\n",
    "df = pd.read_csv(\"/Users/rwang/Library/CloudStorage/OneDrive-SharedLibraries-RMI/Climate Action Engine - Documents/OCI Phase 2/OCI_2023/basedata_updates/info_2023-08-24.csv\")"
   ]
  },
  {
   "cell_type": "code",
   "execution_count": null,
   "metadata": {},
   "outputs": [],
   "source": []
  },
  {
   "cell_type": "code",
   "execution_count": 18,
   "metadata": {},
   "outputs": [],
   "source": [
    "df_small = df[df['country'] == 'Kazakhstan'][\n",
    "    ['Field Name','Year',\n",
    " 'gwp', 'Latitude',\n",
    " 'Longitude','Upstream Methane Intensity (kgCH4/boe)',\n",
    " 'Midstream Methane Intensity (kgCH4/boe)',\n",
    " 'Transport Methane Intensity (kgCH4/boe)',\n",
    " 'Downstream Methane Intensity (kgCH4/boe)',\n",
    " 'Upstream Emissions Intensity (kgCO2eq/boe)',\n",
    " 'Midstream Emissions Intensity (kgCO2eq/boe)',\n",
    " 'Transport Emissions Intensity (kgCO2eq/boe)',\n",
    " 'Downstream Emissions Intensity (kgCO2eq/boe)']]"
   ]
  },
  {
   "cell_type": "code",
   "execution_count": 19,
   "metadata": {},
   "outputs": [],
   "source": [
    "df_small.to_csv('./info_small.csv')"
   ]
  },
  {
   "cell_type": "code",
   "execution_count": null,
   "metadata": {},
   "outputs": [],
   "source": [
    "# Create new columns for the supply chain segment and emissions metric\n",
    "df_melted['Supply Chain Segment'] = df_melted['Variable'].str.split('_').str[0]\n",
    "df_melted['Emissions Metric'] = df_melted['Variable'].str.split('_').str[1]\n",
    "\n",
    "# Display the first few rows of the dataframe\n",
    "df_melted.head()\n",
    "\n",
    "\n",
    "This code will create two new columns in the DataFrame: one for the supply chain segment and one for the emissions metric. It assumes that these can be derived by splitting the 'Variable' column on the underscore character.\n",
    "\n",
    "Finally, we'll create the interactive dashboard. This is a more complex task that will require a library like Plotly or Bokeh. I'll provide a basic example of how you might create a dashboard with a map and a time series stacked bar chart using Plotly, but please note that this will likely need to be adjusted to fit your specific needs.\n",
    "\n",
    "```python\n",
    "import plotly.express as px\n",
    "\n",
    "# Create a scatter mapbox\n",
    "fig_map = px.scatter_mapbox(df_melted, lat=\"Latitude\", lon=\"Longitude\", \n",
    "                            color=\"Emissions Metric\", size=\"Emissions Intensity Value\", \n",
    "                            animation_frame=\"Year\", hover_name=\"Field\", \n",
    "                            color_continuous_scale=px.colors.cyclical.IceFire, \n",
    "                            title=\"Emissions Intensity by Field and Year\")\n",
    "\n",
    "# Create a stacked bar chart\n",
    "fig_bar = px.bar(df_melted, x=\"Year\", y=\"Emissions Intensity Value\", \n",
    "                 color=\"Supply Chain Segment\", barmode=\"stack\", \n",
    "                 facet_row=\"Emissions Metric\", title=\"Emissions Intensity by Supply Chain Segment and Year\")\n",
    "\n",
    "# Display the figures\n",
    "fig_map.show()\n",
    "fig_bar.show()"
   ]
  },
  {
   "cell_type": "code",
   "execution_count": 4,
   "metadata": {},
   "outputs": [
    {
     "name": "stdout",
     "output_type": "stream",
     "text": [
      "Starting kernel...\n",
      "Waiting for kernel to start...\n",
      "Waiting for kernel to start...\n",
      "Waiting for kernel to start...\n"
     ]
    },
    {
     "name": "stderr",
     "output_type": "stream",
     "text": [
      "/Users/rwang/Library/Python/3.9/lib/python/site-packages/traitlets/traitlets.py:2548: FutureWarning: Supporting extra quotes around strings is deprecated in traitlets 5.0. You can use '0.0.0.0' instead of \"'0.0.0.0'\" if you require traitlets >=5.\n",
      "  warn(\n",
      "[I 2023-08-25 10:31:15.081 KernelGatewayApp] Jupyter Kernel Gateway 2.5.2 is available at http://0.0.0.0:8888\n",
      "[I 230825 10:31:15 web:2271] 200 GET /api (127.0.0.1) 1.23ms\n",
      "[I 2023-08-25 10:31:16.704 KernelGatewayApp] Kernel started: 225b87d0-827e-4d58-bb03-359c27025614, name: python3\n",
      "[I 230825 10:31:16 web:2271] 201 POST /api/kernels (127.0.0.1) 812.32ms\n",
      "[W 2023-08-25 10:31:16.706 KernelGatewayApp] No session ID specified\n",
      "[I 230825 10:31:17 web:2271] 101 GET /api/kernels/225b87d0-827e-4d58-bb03-359c27025614/channels (127.0.0.1) 637.62ms\n"
     ]
    },
    {
     "name": "stdout",
     "output_type": "stream",
     "text": [
      "DEPRECATION WARNING: Use agenerate_response for async generation.\n",
      "This function will be converted to sync in the future.\n",
      "You can use generate_response_sync for now.\n",
      "\n",
      "\n",
      "\u001b[1m> Entering new AgentExecutor chain...\u001b[0m\n",
      "\u001b[32;1m\u001b[1;3m\n",
      "Invoking: `python` with `{'code': \"import pandas as pd\\n\\n# Load the data\\ninfo_small = pd.read_csv('info_small.csv')\\n\\n# Display the first few rows of the dataframe\\ninfo_small.head()\"}`\n",
      "responded: {content}\n",
      "\n",
      "\u001b[0mimport pandas as pd\n",
      "\n",
      "# Load the data\n",
      "info_small = pd.read_csv('info_small.csv')\n",
      "\n",
      "# Display the first few rows of the dataframe\n",
      "info_small.head()\n",
      "Running code:\n",
      " import pandas as pd\n",
      "\n",
      "# Load the data\n",
      "info_small = pd.read_csv('info_small.csv')\n",
      "\n",
      "# Display the first few rows of the dataframe\n",
      "info_small.head()\n",
      "Output:\n",
      " Unnamed: 0  Field Name  Year  gwp  Upstream Methane Intensity (kgCH4/boe)  \\\n",
      "0         204  Akshabulak  2015   20                                0.822987   \n",
      "1         205  Akshabulak  2015  100                                0.822987   \n",
      "2         206  Akshabulak  2016   20                                1.014905   \n",
      "3         207  Akshabulak  2016  100                                1.014905   \n",
      "4         208  Akshabulak  2017   20                                0.986529   \n",
      "\n",
      "   Midstream Methane Intensity (kgCH4/boe)  \\\n",
      "0                                 0.008554   \n",
      "1                                 0.008303   \n",
      "2                                 0.008441   \n",
      "3                                 0.008193   \n",
      "4                                 0.008428   \n",
      "\n",
      "   Transport Methane Intensity (kgCH4/boe)  \\\n",
      "0                                 0.002257   \n",
      "1                                 0.002257   \n",
      "2                                 0.002256   \n",
      "3                                 0.002256   \n",
      "4                                 0.002255   \n",
      "\n",
      "   Downstream Methane Intensity (kgCH4/boe)  \\\n",
      "0                                  0.019444   \n",
      "1                                  0.019369   \n",
      "2                                  0.019375   \n",
      "3                                  0.019300   \n",
      "4                                  0.019360   \n",
      "\n",
      "   Upstream Emissions Intensity (kgCO2eq/boe)  \\\n",
      "0                                   95.468690   \n",
      "1                                   47.524325   \n",
      "2                                  115.659452   \n",
      "3                                   57.220011   \n",
      "4                                  112.629583   \n",
      "\n",
      "   Midstream Emissions Intensity (kgCO2eq/boe)  \\\n",
      "0                                    31.993701   \n",
      "1                                    31.325098   \n",
      "2                                    31.783901   \n",
      "3                                    31.118946   \n",
      "4                                    31.717484   \n",
      "\n",
      "   Transport Emissions Intensity (kgCO2eq/boe)  \\\n",
      "0                                    14.593556   \n",
      "1                                    13.382811   \n",
      "2                                    14.584203   \n",
      "3                                    13.374401   \n",
      "4                                    14.574327   \n",
      "\n",
      "   Downstream Emissions Intensity (kgCO2eq/boe)  \n",
      "0                                    364.050603  \n",
      "1                                    363.038449  \n",
      "2                                    363.651609  \n",
      "3                                    362.642578  \n",
      "4                                    363.396586\n",
      "\n",
      "\u001b[36;1m\u001b[1;3m[...]\n",
      "\n",
      "1                                    13.382811   \n",
      "2                                    14.584203   \n",
      "3                                    13.374401   \n",
      "4                                    14.574327   \n",
      "\n",
      "   Downstream Emissions Intensity (kgCO2eq/boe)  \n",
      "0                                    364.050603  \n",
      "1                                    363.038449  \n",
      "2                                    363.651609  \n",
      "3                                    362.642578  \n",
      "4                                    363.396586\n",
      "\u001b[0m\u001b[32;1m\u001b[1;3mThe dataset contains several columns. However, you mentioned that you're interested in creating a time series stacked bar chart for CH4 and CO2eq, and having dropdown toggles for Field Name and gwp. \n",
      "\n",
      "Unfortunately, I don't see these specific columns in the dataset. Could you please clarify which columns correspond to CH4, CO2eq, Field Name, and gwp? This will help me create the appropriate visualizations.\u001b[0m\n",
      "\n",
      "\u001b[1m> Finished chain.\u001b[0m\n",
      "AI:  The dataset contains several columns. However, you mentioned that you're interested in creating a time series stacked bar chart for CH4 and CO2eq, and having dropdown toggles for Field Name and gwp. \n",
      "\n",
      "Unfortunately, I don't see these specific columns in the dataset. Could you please clarify which columns correspond to CH4, CO2eq, Field Name, and gwp? This will help me create the appropriate visualizations.\n"
     ]
    },
    {
     "name": "stderr",
     "output_type": "stream",
     "text": [
      "[I 2023-08-25 10:31:42.819 KernelGatewayApp] Received signal to terminate.\n",
      "[I 2023-08-25 10:31:43.694 KernelGatewayApp] Kernel shutdown: 225b87d0-827e-4d58-bb03-359c27025614\n"
     ]
    }
   ],
   "source": [
    "async def main():\n",
    "    # context manager for auto start/stop of the session\n",
    "    async with CodeInterpreterSession() as session:\n",
    "        # define the user request\n",
    "        user_request = \"Analyze this dataset and create an interactive dashboard composed of two time series stacked bar chart - one for CH4 and one for CO2eq. Have two dropdown toggles: one for Field Name, the other for gwp\"\n",
    "        files = [\n",
    "            File.from_path(\"./info_small.csv\"),\n",
    "        ]\n",
    "\n",
    "        # generate the response\n",
    "        response = await session.generate_response(\n",
    "            user_request, files=files\n",
    "        )\n",
    "\n",
    "        # output to the user\n",
    "        print(\"AI: \", response.content)\n",
    "        for file in response.files:\n",
    "            file.show_image()\n",
    "\n",
    "await main()"
   ]
  },
  {
   "cell_type": "markdown",
   "metadata": {},
   "source": [
    "## It seems that the AI is having trouble interpreting the request. Let's try to normalize the table and see if AI gets smarter"
   ]
  },
  {
   "cell_type": "code",
   "execution_count": null,
   "metadata": {},
   "outputs": [],
   "source": [
    "df_small.head(1)"
   ]
  },
  {
   "cell_type": "code",
   "execution_count": null,
   "metadata": {},
   "outputs": [],
   "source": [
    "df_small.columns.to_list()"
   ]
  },
  {
   "cell_type": "code",
   "execution_count": null,
   "metadata": {},
   "outputs": [],
   "source": [
    "df_small_melt = df_small.melt(id_vars=['Field Name','Year','gwp'], value_vars=['Upstream Methane Intensity (kgCH4/boe)','Midstream Methane Intensity (kgCH4/boe)','Transport Methane Intensity (kgCH4/boe)','Downstream Methane Intensity (kgCH4/boe)','Downstream Methane Intensity (kgCH4/boe)','Upstream Emissions Intensity (kgCO2eq/boe)','Midstream Emissions Intensity (kgCO2eq/boe)','Transport Emissions Intensity (kgCO2eq/boe)','Downstream Emissions Intensity (kgCO2eq/boe)'])"
   ]
  },
  {
   "cell_type": "code",
   "execution_count": null,
   "metadata": {},
   "outputs": [],
   "source": [
    "df_small_melt['segment'] = df_small_melt['variable'].apply(lambda x: x.split(' ')[0])\n",
    "df_small_melt['metric']=df_small_melt['variable'].apply(lambda x: 'CH4' if 'Methane' in x else 'CO2eq')"
   ]
  },
  {
   "cell_type": "code",
   "execution_count": null,
   "metadata": {},
   "outputs": [],
   "source": [
    "df_small_melt.to_csv('info_small_melt.csv',index=False)"
   ]
  },
  {
   "cell_type": "code",
   "execution_count": 11,
   "metadata": {},
   "outputs": [
    {
     "name": "stdout",
     "output_type": "stream",
     "text": [
      "INFO: Using a LocalBox which is not fully isolated\n",
      "      and not scalable across multiple users.\n",
      "      Make sure to use a CODEBOX_API_KEY in production.\n",
      "      Set envar SHOW_INFO=False to not see this again.\n",
      "\n",
      "Starting kernel...\n",
      "Waiting for kernel to start...\n"
     ]
    },
    {
     "name": "stderr",
     "output_type": "stream",
     "text": [
      "/Users/rwang/Library/Python/3.9/lib/python/site-packages/traitlets/traitlets.py:2548: FutureWarning: Supporting extra quotes around strings is deprecated in traitlets 5.0. You can use '0.0.0.0' instead of \"'0.0.0.0'\" if you require traitlets >=5.\n",
      "  warn(\n",
      "[I 2023-08-25 10:40:13.004 KernelGatewayApp] Jupyter Kernel Gateway 2.5.2 is available at http://0.0.0.0:8888\n",
      "[I 230825 10:40:13 web:2271] 200 GET /api (127.0.0.1) 0.62ms\n",
      "[I 2023-08-25 10:40:13.967 KernelGatewayApp] Kernel started: e85cb8d8-739e-4aca-a719-fc7036e607c1, name: python3\n",
      "[I 230825 10:40:13 web:2271] 201 POST /api/kernels (127.0.0.1) 491.32ms\n",
      "[W 2023-08-25 10:40:13.970 KernelGatewayApp] No session ID specified\n",
      "[I 230825 10:40:14 web:2271] 101 GET /api/kernels/e85cb8d8-739e-4aca-a719-fc7036e607c1/channels (127.0.0.1) 625.42ms\n"
     ]
    },
    {
     "name": "stdout",
     "output_type": "stream",
     "text": [
      "DEPRECATION WARNING: Use agenerate_response for async generation.\n",
      "This function will be converted to sync in the future.\n",
      "You can use generate_response_sync for now.\n",
      "\n",
      "\n",
      "\u001b[1m> Entering new AgentExecutor chain...\u001b[0m\n",
      "\u001b[32;1m\u001b[1;3m\n",
      "Invoking: `python` with `{'code': \"import pandas as pd\\n\\n# Load the data\\ndata = pd.read_csv('info_small_melt.csv')\\n\\n# Display the first few rows of the data\\ndata.head()\"}`\n",
      "responded: {content}\n",
      "\n",
      "\u001b[0mimport pandas as pd\n",
      "\n",
      "# Load the data\n",
      "data = pd.read_csv('info_small_melt.csv')\n",
      "\n",
      "# Display the first few rows of the data\n",
      "data.head()\n",
      "Running code:\n",
      " import pandas as pd\n",
      "\n",
      "# Load the data\n",
      "data = pd.read_csv('info_small_melt.csv')\n",
      "\n",
      "# Display the first few rows of the data\n",
      "data.head()\n",
      "Output:\n",
      " Unnamed: 0  Field Name  Year  gwp                                variable  \\\n",
      "0           0  Akshabulak  2015   20  Upstream Methane Intensity (kgCH4/boe)   \n",
      "1           1  Akshabulak  2015  100  Upstream Methane Intensity (kgCH4/boe)   \n",
      "2           2  Akshabulak  2016   20  Upstream Methane Intensity (kgCH4/boe)   \n",
      "3           3  Akshabulak  2016  100  Upstream Methane Intensity (kgCH4/boe)   \n",
      "4           4  Akshabulak  2017   20  Upstream Methane Intensity (kgCH4/boe)   \n",
      "\n",
      "      value   segment metric  \n",
      "0  0.822987  Upstream    CH4  \n",
      "1  0.822987  Upstream    CH4  \n",
      "2  1.014905  Upstream    CH4  \n",
      "3  1.014905  Upstream    CH4  \n",
      "4  0.986529  Upstream    CH4\n",
      "\n",
      "\u001b[36;1m\u001b[1;3m[...]\n",
      "       1  Akshabulak  2015  100  Upstream Methane Intensity (kgCH4/boe)   \n",
      "2           2  Akshabulak  2016   20  Upstream Methane Intensity (kgCH4/boe)   \n",
      "3           3  Akshabulak  2016  100  Upstream Methane Intensity (kgCH4/boe)   \n",
      "4           4  Akshabulak  2017   20  Upstream Methane Intensity (kgCH4/boe)   \n",
      "\n",
      "      value   segment metric  \n",
      "0  0.822987  Upstream    CH4  \n",
      "1  0.822987  Upstream    CH4  \n",
      "2  1.014905  Upstream    CH4  \n",
      "3  1.014905  Upstream    CH4  \n",
      "4  0.986529  Upstream    CH4\n",
      "\u001b[0m\u001b[32;1m\u001b[1;3mThe dataset contains the following columns:\n",
      "\n",
      "- An unnamed column which seems to be an index.\n",
      "- `Field Name`: The name of the field.\n",
      "- `Year`: The year of the data.\n",
      "- `gwp`: Global Warming Potential, a measure of how much heat a greenhouse gas traps in the atmosphere.\n",
      "- `variable`: The type of measurement, in this case, it's \"Upstream Methane Intensity (kgCH4/boe)\".\n",
      "- `value`: The value of the measurement.\n",
      "- `segment`: The segment of the industry, in this case, it's \"Upstream\".\n",
      "- `metric`: The metric of the measurement, in this case, it's \"CH4\".\n",
      "\n",
      "Next, let's create an interactive dashboard with two time series stacked bar charts - one for CH4 and one for CO2eq. We'll use the Plotly and Dash libraries for this. \n",
      "\n",
      "However, please note that the current dataset only contains data for the CH4 metric. We would need additional data for CO2eq to create a chart for it. \n",
      "\n",
      "Let's proceed with creating a dashboard for the CH4 metric. We'll create a dropdown for the 'Field Name' and 'gwp' columns. The user can select a field name and a gwp value, and the chart will update to display the data for the selected field and gwp. \n",
      "\n",
      "Please note that the code will create a local web server and display the dashboard in a web browser. The dashboard will not be visible in this text-based interface. You can run the code on your local machine to view the dashboard. \n",
      "\n",
      "Here is the code to create the dashboard: \n",
      "\n",
      "```python\n",
      "import dash\n",
      "import dash_core_components as dcc\n",
      "import dash_html_components as html\n",
      "from dash.dependencies import Input, Output\n",
      "import plotly.express as px\n",
      "\n",
      "# Create a Dash application\n",
      "app = dash.Dash(__name__)\n",
      "\n",
      "# Define the layout\n",
      "app.layout = html.Div([\n",
      "    dcc.Dropdown(\n",
      "        id='field-dropdown',\n",
      "        options=[{'label': i, 'value': i} for i in data['Field Name'].unique()],\n",
      "        value=data['Field Name'].unique()[0]\n",
      "    ),\n",
      "    dcc.Dropdown(\n",
      "        id='gwp-dropdown',\n",
      "        options=[{'label': i, 'value': i} for i in data['gwp'].unique()],\n",
      "        value=data['gwp'].unique()[0]\n",
      "    ),\n",
      "    dcc.Graph(id='time-series-chart')\n",
      "])\n",
      "\n",
      "# Define the callback\n",
      "@app.callback(\n",
      "    Output('time-series-chart', 'figure'),\n",
      "    [Input('field-dropdown', 'value'),\n",
      "     Input('gwp-dropdown', 'value')]\n",
      ")\n",
      "def update_graph(selected_field, selected_gwp):\n",
      "    filtered_data = data[(data['Field Name'] == selected_field) & (data['gwp'] == selected_gwp)]\n",
      "    fig = px.bar(filtered_data, x='Year', y='value', color='metric', barmode='stack')\n",
      "    return fig\n",
      "\n",
      "# Run the application\n",
      "if __name__ == '__main__':\n",
      "    app.run_server(debug=True)\n",
      "```\n",
      "\n",
      "You can run this code in a Python environment where Dash and Plotly are installed. When you run the code, it will start a local web server and print a URL to the console. You can open this URL in a web browser to view the dashboard. \n",
      "\n",
      "Please let me know if you need further assistance.\u001b[0m\n",
      "\n",
      "\u001b[1m> Finished chain.\u001b[0m\n",
      "AI:  The dataset contains the following columns:\n",
      "\n",
      "- An unnamed column which seems to be an index.\n",
      "- `Field Name`: The name of the field.\n",
      "- `Year`: The year of the data.\n",
      "- `gwp`: Global Warming Potential, a measure of how much heat a greenhouse gas traps in the atmosphere.\n",
      "- `variable`: The type of measurement, in this case, it's \"Upstream Methane Intensity (kgCH4/boe)\".\n",
      "- `value`: The value of the measurement.\n",
      "- `segment`: The segment of the industry, in this case, it's \"Upstream\".\n",
      "- `metric`: The metric of the measurement, in this case, it's \"CH4\".\n",
      "\n",
      "Next, let's create an interactive dashboard with two time series stacked bar charts - one for CH4 and one for CO2eq. We'll use the Plotly and Dash libraries for this. \n",
      "\n",
      "However, please note that the current dataset only contains data for the CH4 metric. We would need additional data for CO2eq to create a chart for it. \n",
      "\n",
      "Let's proceed with creating a dashboard for the CH4 metric. We'll create a dropdown for the 'Field Name' and 'gwp' columns. The user can select a field name and a gwp value, and the chart will update to display the data for the selected field and gwp. \n",
      "\n",
      "Please note that the code will create a local web server and display the dashboard in a web browser. The dashboard will not be visible in this text-based interface. You can run the code on your local machine to view the dashboard. \n",
      "\n",
      "Here is the code to create the dashboard: \n",
      "\n",
      "```python\n",
      "import dash\n",
      "import dash_core_components as dcc\n",
      "import dash_html_components as html\n",
      "from dash.dependencies import Input, Output\n",
      "import plotly.express as px\n",
      "\n",
      "# Create a Dash application\n",
      "app = dash.Dash(__name__)\n",
      "\n",
      "# Define the layout\n",
      "app.layout = html.Div([\n",
      "    dcc.Dropdown(\n",
      "        id='field-dropdown',\n",
      "        options=[{'label': i, 'value': i} for i in data['Field Name'].unique()],\n",
      "        value=data['Field Name'].unique()[0]\n",
      "    ),\n",
      "    dcc.Dropdown(\n",
      "        id='gwp-dropdown',\n",
      "        options=[{'label': i, 'value': i} for i in data['gwp'].unique()],\n",
      "        value=data['gwp'].unique()[0]\n",
      "    ),\n",
      "    dcc.Graph(id='time-series-chart')\n",
      "])\n",
      "\n",
      "# Define the callback\n",
      "@app.callback(\n",
      "    Output('time-series-chart', 'figure'),\n",
      "    [Input('field-dropdown', 'value'),\n",
      "     Input('gwp-dropdown', 'value')]\n",
      ")\n",
      "def update_graph(selected_field, selected_gwp):\n",
      "    filtered_data = data[(data['Field Name'] == selected_field) & (data['gwp'] == selected_gwp)]\n",
      "    fig = px.bar(filtered_data, x='Year', y='value', color='metric', barmode='stack')\n",
      "    return fig\n",
      "\n",
      "# Run the application\n",
      "if __name__ == '__main__':\n",
      "    app.run_server(debug=True)\n",
      "```\n",
      "\n",
      "You can run this code in a Python environment where Dash and Plotly are installed. When you run the code, it will start a local web server and print a URL to the console. You can open this URL in a web browser to view the dashboard. \n",
      "\n",
      "Please let me know if you need further assistance.\n"
     ]
    },
    {
     "name": "stderr",
     "output_type": "stream",
     "text": [
      "[I 2023-08-25 10:41:40.603 KernelGatewayApp] Received signal to terminate.\n",
      "[I 2023-08-25 10:41:40.956 KernelGatewayApp] Kernel shutdown: e85cb8d8-739e-4aca-a719-fc7036e607c1\n"
     ]
    }
   ],
   "source": [
    "async def main():\n",
    "    # context manager for auto start/stop of the session\n",
    "    async with CodeInterpreterSession() as session:\n",
    "        # define the user request\n",
    "        user_request = \"Analyze this dataset and create an interactive dashboard composed of two time series stacked bar chart - one for CH4 and one for CO2eq. Have two dropdown toggles: one for Field Name, the other for gwp\"\n",
    "        files = [\n",
    "            File.from_path(\"./info_small_melt.csv\"),\n",
    "        ]\n",
    "\n",
    "        # generate the response\n",
    "        response = await session.generate_response(\n",
    "            user_request, files=files\n",
    "        )\n",
    "\n",
    "        # output to the user\n",
    "        print(\"AI: \", response.content)\n",
    "        for file in response.files:\n",
    "            file.show_image()\n",
    "\n",
    "await main()"
   ]
  },
  {
   "cell_type": "code",
   "execution_count": null,
   "metadata": {},
   "outputs": [],
   "source": [
    "! pip install dash"
   ]
  },
  {
   "cell_type": "code",
   "execution_count": 13,
   "metadata": {},
   "outputs": [
    {
     "data": {
      "text/html": [
       "\n",
       "        <iframe\n",
       "            width=\"100%\"\n",
       "            height=\"650\"\n",
       "            src=\"http://127.0.0.1:8050/\"\n",
       "            frameborder=\"0\"\n",
       "            allowfullscreen\n",
       "            \n",
       "        ></iframe>\n",
       "        "
      ],
      "text/plain": [
       "<IPython.lib.display.IFrame at 0x151ce3910>"
      ]
     },
     "metadata": {},
     "output_type": "display_data"
    }
   ],
   "source": [
    "import pandas as pd\n",
    "import dash\n",
    "import dash_core_components as dcc\n",
    "import dash_html_components as html\n",
    "from dash.dependencies import Input, Output\n",
    "import plotly.express as px\n",
    "\n",
    "# Create a Dash application\n",
    "app = dash.Dash(__name__)\n",
    "\n",
    "info_small_melt = pd.read_csv('./info_small_melt.csv')\n",
    "# Define the layout\n",
    "app.layout = html.Div([\n",
    "    dcc.Dropdown(\n",
    "        id='field-name-dropdown',\n",
    "        options=[{'label': i, 'value': i} for i in info_small_melt['Field Name'].unique()],\n",
    "        value='Akshabulak'\n",
    "    ),\n",
    "    dcc.Dropdown(\n",
    "        id='gwp-dropdown',\n",
    "        options=[{'label': i, 'value': i} for i in info_small_melt['gwp'].unique()],\n",
    "        value=100\n",
    "    ),\n",
    "    dcc.Graph(id='ch4-graph'),\n",
    "    dcc.Graph(id='co2eq-graph')\n",
    "])\n",
    "\n",
    "# Define the callbacks\n",
    "@app.callback(\n",
    "    [Output('ch4-graph', 'figure'),\n",
    "     Output('co2eq-graph', 'figure')],\n",
    "    [Input('field-name-dropdown', 'value'),\n",
    "     Input('gwp-dropdown', 'value')]\n",
    ")\n",
    "def update_graphs(field_name, gwp):\n",
    "    filtered_df = info_small_melt[(info_small_melt['Field Name'] == field_name) & (info_small_melt['gwp'] == gwp)]\n",
    "    \n",
    "    ch4_df = filtered_df[filtered_df['metric'] == 'CH4']\n",
    "    ch4_fig = px.bar(ch4_df, x='Year', y='value', color='segment', title='CH4')\n",
    "    \n",
    "    co2eq_df = filtered_df[filtered_df['metric'] == 'CO2eq']\n",
    "    co2eq_fig = px.bar(co2eq_df, x='Year', y='value', color='segment', title='CO2eq')\n",
    "    \n",
    "    return ch4_fig, co2eq_fig\n",
    "\n",
    "# Run the application\n",
    "if __name__ == '__main__':\n",
    "    app.run_server(debug=True)\n"
   ]
  },
  {
   "cell_type": "markdown",
   "metadata": {},
   "source": [
    "### What if I ask AI to normalize the data for me?"
   ]
  },
  {
   "cell_type": "code",
   "execution_count": 35,
   "metadata": {},
   "outputs": [
    {
     "name": "stdout",
     "output_type": "stream",
     "text": [
      "INFO: Using a LocalBox which is not fully isolated\n",
      "      and not scalable across multiple users.\n",
      "      Make sure to use a CODEBOX_API_KEY in production.\n",
      "      Set envar SHOW_INFO=False to not see this again.\n",
      "\n",
      "Starting kernel...\n",
      "Waiting for kernel to start...\n",
      "Waiting for kernel to start...\n",
      "Waiting for kernel to start...\n"
     ]
    },
    {
     "name": "stderr",
     "output_type": "stream",
     "text": [
      "/Users/rwang/Library/Python/3.9/lib/python/site-packages/traitlets/traitlets.py:2548: FutureWarning: Supporting extra quotes around strings is deprecated in traitlets 5.0. You can use '0.0.0.0' instead of \"'0.0.0.0'\" if you require traitlets >=5.\n",
      "  warn(\n",
      "[I 2023-08-25 17:57:52.095 KernelGatewayApp] Jupyter Kernel Gateway 2.5.2 is available at http://0.0.0.0:8888\n",
      "[I 230825 17:57:52 web:2271] 200 GET /api (127.0.0.1) 0.52ms\n",
      "[I 2023-08-25 17:57:54.305 KernelGatewayApp] Kernel started: cee0113c-340b-4eaf-8fa1-92f14f02414f, name: python3\n",
      "[I 230825 17:57:54 web:2271] 201 POST /api/kernels (127.0.0.1) 2163.29ms\n",
      "[W 2023-08-25 17:57:54.308 KernelGatewayApp] No session ID specified\n",
      "[I 230825 17:57:55 web:2271] 101 GET /api/kernels/cee0113c-340b-4eaf-8fa1-92f14f02414f/channels (127.0.0.1) 823.79ms\n"
     ]
    },
    {
     "name": "stdout",
     "output_type": "stream",
     "text": [
      "DEPRECATION WARNING: Use agenerate_response for async generation.\n",
      "This function will be converted to sync in the future.\n",
      "You can use generate_response_sync for now.\n",
      "\n",
      "\n",
      "\u001b[1m> Entering new AgentExecutor chain...\u001b[0m\n",
      "\u001b[32;1m\u001b[1;3m\n",
      "Invoking: `python` with `{'code': \"import pandas as pd\\n\\n# Load the data\\ninfo_small = pd.read_csv('info_small.csv')\\n\\n# Display the first few rows of the data\\ninfo_small.head()\"}`\n",
      "responded: {content}\n",
      "\n",
      "\u001b[0mimport pandas as pd\n",
      "\n",
      "# Load the data\n",
      "info_small = pd.read_csv('info_small.csv')\n",
      "\n",
      "# Display the first few rows of the data\n",
      "info_small.head()\n",
      "Running code:\n",
      " import pandas as pd\n",
      "\n",
      "# Load the data\n",
      "info_small = pd.read_csv('info_small.csv')\n",
      "\n",
      "# Display the first few rows of the data\n",
      "info_small.head()\n",
      "Output:\n",
      " Unnamed: 0  Field Name  Year  gwp  Latitude  Longitude  \\\n",
      "0         204  Akshabulak  2015   20   45.9528    65.7203   \n",
      "1         205  Akshabulak  2015  100   45.9528    65.7203   \n",
      "2         206  Akshabulak  2016   20   45.9528    65.7203   \n",
      "3         207  Akshabulak  2016  100   45.9528    65.7203   \n",
      "4         208  Akshabulak  2017   20   45.9528    65.7203   \n",
      "\n",
      "   Upstream Methane Intensity (kgCH4/boe)  \\\n",
      "0                                0.822987   \n",
      "1                                0.822987   \n",
      "2                                1.014905   \n",
      "3                                1.014905   \n",
      "4                                0.986529   \n",
      "\n",
      "   Midstream Methane Intensity (kgCH4/boe)  \\\n",
      "0                                 0.008554   \n",
      "1                                 0.008303   \n",
      "2                                 0.008441   \n",
      "3                                 0.008193   \n",
      "4                                 0.008428   \n",
      "\n",
      "   Transport Methane Intensity (kgCH4/boe)  \\\n",
      "0                                 0.002257   \n",
      "1                                 0.002257   \n",
      "2                                 0.002256   \n",
      "3                                 0.002256   \n",
      "4                                 0.002255   \n",
      "\n",
      "   Downstream Methane Intensity (kgCH4/boe)  \\\n",
      "0                                  0.019444   \n",
      "1                                  0.019369   \n",
      "2                                  0.019375   \n",
      "3                                  0.019300   \n",
      "4                                  0.019360   \n",
      "\n",
      "   Upstream Emissions Intensity (kgCO2eq/boe)  \\\n",
      "0                                   95.468690   \n",
      "1                                   47.524325   \n",
      "2                                  115.659452   \n",
      "3                                   57.220011   \n",
      "4                                  112.629583   \n",
      "\n",
      "   Midstream Emissions Intensity (kgCO2eq/boe)  \\\n",
      "0                                    31.993701   \n",
      "1                                    31.325098   \n",
      "2                                    31.783901   \n",
      "3                                    31.118946   \n",
      "4                                    31.717484   \n",
      "\n",
      "   Transport Emissions Intensity (kgCO2eq/boe)  \\\n",
      "0                                    14.593556   \n",
      "1                                    13.382811   \n",
      "2                                    14.584203   \n",
      "3                                    13.374401   \n",
      "4                                    14.574327   \n",
      "\n",
      "   Downstream Emissions Intensity (kgCO2eq/boe)  \n",
      "0                                    364.050603  \n",
      "1                                    363.038449  \n",
      "2                                    363.651609  \n",
      "3                                    362.642578  \n",
      "4                                    363.396586\n",
      "\n",
      "\u001b[36;1m\u001b[1;3m[...]\n",
      "\n",
      "1                                    13.382811   \n",
      "2                                    14.584203   \n",
      "3                                    13.374401   \n",
      "4                                    14.574327   \n",
      "\n",
      "   Downstream Emissions Intensity (kgCO2eq/boe)  \n",
      "0                                    364.050603  \n",
      "1                                    363.038449  \n",
      "2                                    363.651609  \n",
      "3                                    362.642578  \n",
      "4                                    363.396586\n",
      "\u001b[0m\u001b[32;1m\u001b[1;3m\n",
      "Invoking: `python` with `{'code': \"# Melt the table\\ninfo_small_melted = info_small.melt(id_vars=['Field', 'Latitude', 'Longitude', 'GWP'],\\n                                  var_name='Variable',\\n                                  value_name='Emissions Intensity Value')\\n\\n# Display the first few rows of the melted data\\ninfo_small_melted.head()\"}`\n",
      "responded: {content}\n",
      "\n",
      "\u001b[0m# Melt the table\n",
      "info_small_melted = info_small.melt(id_vars=['Field', 'Latitude', 'Longitude', 'GWP'],\n",
      "                                  var_name='Variable',\n",
      "                                  value_name='Emissions Intensity Value')\n",
      "\n",
      "# Display the first few rows of the melted data\n",
      "info_small_melted.head()\n",
      "Running code:\n",
      " # Melt the table\n",
      "info_small_melted = info_small.melt(id_vars=['Field', 'Latitude', 'Longitude', 'GWP'],\n",
      "                                  var_name='Variable',\n",
      "                                  value_name='Emissions Intensity Value')\n",
      "\n",
      "# Display the first few rows of the melted data\n",
      "info_small_melted.head()\n",
      "Error:\n",
      " KeyError: \"The following 'id_vars' are not present in the DataFrame: ['Field', 'GWP']\"\n",
      "Error: KeyError: \"The following 'id_vars' are not present in the DataFrame: ['Field', 'GWP']\"\n",
      "\u001b[36;1m\u001b[1;3mKeyError: \"The following 'id_vars' are not present in the DataFrame: ['Field', 'GWP']\"\u001b[0m\u001b[32;1m\u001b[1;3m\n",
      "Invoking: `python` with `{'code': 'info_small.columns'}`\n",
      "responded: {content}\n",
      "\n",
      "\u001b[0minfo_small.columns\n",
      "Running code:\n",
      " info_small.columns\n",
      "Output:\n",
      " Index(['Unnamed: 0', 'Field Name', 'Year', 'gwp', 'Latitude', 'Longitude',\n",
      "       'Upstream Methane Intensity (kgCH4/boe)',\n",
      "       'Midstream Methane Intensity (kgCH4/boe)',\n",
      "       'Transport Methane Intensity (kgCH4/boe)',\n",
      "       'Downstream Methane Intensity (kgCH4/boe)',\n",
      "       'Upstream Emissions Intensity (kgCO2eq/boe)',\n",
      "       'Midstream Emissions Intensity (kgCO2eq/boe)',\n",
      "       'Transport Emissions Intensity (kgCO2eq/boe)',\n",
      "       'Downstream Emissions Intensity (kgCO2eq/boe)'],\n",
      "      dtype='object')\n",
      "\n",
      "\u001b[36;1m\u001b[1;3m[...]\n",
      "d: 0', 'Field Name', 'Year', 'gwp', 'Latitude', 'Longitude',\n",
      "       'Upstream Methane Intensity (kgCH4/boe)',\n",
      "       'Midstream Methane Intensity (kgCH4/boe)',\n",
      "       'Transport Methane Intensity (kgCH4/boe)',\n",
      "       'Downstream Methane Intensity (kgCH4/boe)',\n",
      "       'Upstream Emissions Intensity (kgCO2eq/boe)',\n",
      "       'Midstream Emissions Intensity (kgCO2eq/boe)',\n",
      "       'Transport Emissions Intensity (kgCO2eq/boe)',\n",
      "       'Downstream Emissions Intensity (kgCO2eq/boe)'],\n",
      "      dtype='object')\n",
      "\u001b[0m\u001b[32;1m\u001b[1;3m\n",
      "Invoking: `python` with `{'code': \"# Melt the table\\ninfo_small_melted = info_small.melt(id_vars=['Field Name', 'Latitude', 'Longitude', 'gwp'],\\n                                  var_name='Variable',\\n                                  value_name='Emissions Intensity Value')\\n\\n# Display the first few rows of the melted data\\ninfo_small_melted.head()\"}`\n",
      "responded: {content}\n",
      "\n",
      "\u001b[0m# Melt the table\n",
      "info_small_melted = info_small.melt(id_vars=['Field Name', 'Latitude', 'Longitude', 'gwp'],\n",
      "                                  var_name='Variable',\n",
      "                                  value_name='Emissions Intensity Value')\n",
      "\n",
      "# Display the first few rows of the melted data\n",
      "info_small_melted.head()\n",
      "Running code:\n",
      " # Melt the table\n",
      "info_small_melted = info_small.melt(id_vars=['Field Name', 'Latitude', 'Longitude', 'gwp'],\n",
      "                                  var_name='Variable',\n",
      "                                  value_name='Emissions Intensity Value')\n",
      "\n",
      "# Display the first few rows of the melted data\n",
      "info_small_melted.head()\n",
      "Output:\n",
      " Field Name  Latitude  Longitude  gwp    Variable  Emissions Intensity Value\n",
      "0  Akshabulak   45.9528    65.7203   20  Unnamed: 0                      204.0\n",
      "1  Akshabulak   45.9528    65.7203  100  Unnamed: 0                      205.0\n",
      "2  Akshabulak   45.9528    65.7203   20  Unnamed: 0                      206.0\n",
      "3  Akshabulak   45.9528    65.7203  100  Unnamed: 0                      207.0\n",
      "4  Akshabulak   45.9528    65.7203   20  Unnamed: 0                      208.0\n",
      "\n",
      "\u001b[36;1m\u001b[1;3mField Name  Latitude  Longitude  gwp    Variable  Emissions Intensity Value\n",
      "0  Akshabulak   45.9528    65.7203   20  Unnamed: 0                      204.0\n",
      "1  Akshabulak   45.9528    65.7203  100  Unnamed: 0                      205.0\n",
      "2  Akshabulak   45.9528    65.7203   20  Unnamed: 0                      206.0\n",
      "3  Akshabulak   45.9528    65.7203  100  Unnamed: 0                      207.0\n",
      "4  Akshabulak   45.9528    65.7203   20  Unnamed: 0                      208.0\n",
      "\u001b[0m\u001b[32;1m\u001b[1;3m\n",
      "Invoking: `python` with `{'code': \"# Create new columns for the supply chain segment and emissions metric\\ninfo_small_melted['Supply Chain Segment'] = info_small_melted['Variable'].str.split(' ').str[0]\\ninfo_small_melted['Emissions Metric'] = info_small_melted['Variable'].str.split(' ').str[-1]\\n\\n# Display the first few rows of the data\\ninfo_small_melted.head()\"}`\n",
      "responded: {content}\n",
      "\n",
      "\u001b[0m# Create new columns for the supply chain segment and emissions metric\n",
      "info_small_melted['Supply Chain Segment'] = info_small_melted['Variable'].str.split(' ').str[0]\n",
      "info_small_melted['Emissions Metric'] = info_small_melted['Variable'].str.split(' ').str[-1]\n",
      "\n",
      "# Display the first few rows of the data\n",
      "info_small_melted.head()\n",
      "Running code:\n",
      " # Create new columns for the supply chain segment and emissions metric\n",
      "info_small_melted['Supply Chain Segment'] = info_small_melted['Variable'].str.split(' ').str[0]\n",
      "info_small_melted['Emissions Metric'] = info_small_melted['Variable'].str.split(' ').str[-1]\n",
      "\n",
      "# Display the first few rows of the data\n",
      "info_small_melted.head()\n",
      "Output:\n",
      " Field Name  Latitude  Longitude  gwp    Variable  \\\n",
      "0  Akshabulak   45.9528    65.7203   20  Unnamed: 0   \n",
      "1  Akshabulak   45.9528    65.7203  100  Unnamed: 0   \n",
      "2  Akshabulak   45.9528    65.7203   20  Unnamed: 0   \n",
      "3  Akshabulak   45.9528    65.7203  100  Unnamed: 0   \n",
      "4  Akshabulak   45.9528    65.7203   20  Unnamed: 0   \n",
      "\n",
      "   Emissions Intensity Value Supply Chain Segment Emissions Metric  \n",
      "0                      204.0             Unnamed:                0  \n",
      "1                      205.0             Unnamed:                0  \n",
      "2                      206.0             Unnamed:                0  \n",
      "3                      207.0             Unnamed:                0  \n",
      "4                      208.0             Unnamed:                0\n",
      "\n",
      "\u001b[36;1m\u001b[1;3m[...]\n",
      "    65.7203  100  Unnamed: 0   \n",
      "4  Akshabulak   45.9528    65.7203   20  Unnamed: 0   \n",
      "\n",
      "   Emissions Intensity Value Supply Chain Segment Emissions Metric  \n",
      "0                      204.0             Unnamed:                0  \n",
      "1                      205.0             Unnamed:                0  \n",
      "2                      206.0             Unnamed:                0  \n",
      "3                      207.0             Unnamed:                0  \n",
      "4                      208.0             Unnamed:                0\n",
      "\u001b[0m\u001b[32;1m\u001b[1;3m\n",
      "Invoking: `python` with `{'code': \"info_small_melted['Variable'].unique()\"}`\n",
      "responded: {content}\n",
      "\n",
      "\u001b[0minfo_small_melted['Variable'].unique()\n",
      "Running code:\n",
      " info_small_melted['Variable'].unique()\n",
      "Output:\n",
      " array(['Unnamed: 0', 'Year', 'Upstream Methane Intensity (kgCH4/boe)',\n",
      "       'Midstream Methane Intensity (kgCH4/boe)',\n",
      "       'Transport Methane Intensity (kgCH4/boe)',\n",
      "       'Downstream Methane Intensity (kgCH4/boe)',\n",
      "       'Upstream Emissions Intensity (kgCO2eq/boe)',\n",
      "       'Midstream Emissions Intensity (kgCO2eq/boe)',\n",
      "       'Transport Emissions Intensity (kgCO2eq/boe)',\n",
      "       'Downstream Emissions Intensity (kgCO2eq/boe)'], dtype=object)\n",
      "\n",
      "\u001b[36;1m\u001b[1;3marray(['Unnamed: 0', 'Year', 'Upstream Methane Intensity (kgCH4/boe)',\n",
      "       'Midstream Methane Intensity (kgCH4/boe)',\n",
      "       'Transport Methane Intensity (kgCH4/boe)',\n",
      "       'Downstream Methane Intensity (kgCH4/boe)',\n",
      "       'Upstream Emissions Intensity (kgCO2eq/boe)',\n",
      "       'Midstream Emissions Intensity (kgCO2eq/boe)',\n",
      "       'Transport Emissions Intensity (kgCO2eq/boe)',\n",
      "       'Downstream Emissions Intensity (kgCO2eq/boe)'], dtype=object)\n",
      "\u001b[0m\u001b[32;1m\u001b[1;3m\n",
      "Invoking: `python` with `{'code': \"# Filter out irrelevant rows\\ninfo_small_melted = info_small_melted[~info_small_melted['Variable'].isin(['Unnamed: 0', 'Year'])]\\n\\n# Create new columns for the supply chain segment and emissions metric\\ninfo_small_melted['Supply Chain Segment'] = info_small_melted['Variable'].str.split(' ').str[0]\\ninfo_small_melted['Emissions Metric'] = info_small_melted['Variable'].str.split(' ').str[-2:]\\n\\n# Display the first few rows of the data\\ninfo_small_melted.head()\"}`\n",
      "responded: {content}\n",
      "\n",
      "\u001b[0m# Filter out irrelevant rows\n",
      "info_small_melted = info_small_melted[~info_small_melted['Variable'].isin(['Unnamed: 0', 'Year'])]\n",
      "\n",
      "# Create new columns for the supply chain segment and emissions metric\n",
      "info_small_melted['Supply Chain Segment'] = info_small_melted['Variable'].str.split(' ').str[0]\n",
      "info_small_melted['Emissions Metric'] = info_small_melted['Variable'].str.split(' ').str[-2:]\n",
      "\n",
      "# Display the first few rows of the data\n",
      "info_small_melted.head()\n",
      "Running code:\n",
      " # Filter out irrelevant rows\n",
      "info_small_melted = info_small_melted[~info_small_melted['Variable'].isin(['Unnamed: 0', 'Year'])]\n",
      "\n",
      "# Create new columns for the supply chain segment and emissions metric\n",
      "info_small_melted['Supply Chain Segment'] = info_small_melted['Variable'].str.split(' ').str[0]\n",
      "info_small_melted['Emissions Metric'] = info_small_melted['Variable'].str.split(' ').str[-2:]\n",
      "\n",
      "# Display the first few rows of the data\n",
      "info_small_melted.head()\n",
      "Output:\n",
      " Field Name  Latitude  Longitude  gwp  \\\n",
      "192  Akshabulak   45.9528    65.7203   20   \n",
      "193  Akshabulak   45.9528    65.7203  100   \n",
      "194  Akshabulak   45.9528    65.7203   20   \n",
      "195  Akshabulak   45.9528    65.7203  100   \n",
      "196  Akshabulak   45.9528    65.7203   20   \n",
      "\n",
      "                                   Variable  Emissions Intensity Value  \\\n",
      "192  Upstream Methane Intensity (kgCH4/boe)                   0.822987   \n",
      "193  Upstream Methane Intensity (kgCH4/boe)                   0.822987   \n",
      "194  Upstream Methane Intensity (kgCH4/boe)                   1.014905   \n",
      "195  Upstream Methane Intensity (kgCH4/boe)                   1.014905   \n",
      "196  Upstream Methane Intensity (kgCH4/boe)                   0.986529   \n",
      "\n",
      "    Supply Chain Segment          Emissions Metric  \n",
      "192             Upstream  [Intensity, (kgCH4/boe)]  \n",
      "193             Upstream  [Intensity, (kgCH4/boe)]  \n",
      "194             Upstream  [Intensity, (kgCH4/boe)]  \n",
      "195             Upstream  [Intensity, (kgCH4/boe)]  \n",
      "196             Upstream  [Intensity, (kgCH4/boe)]\n",
      "\n",
      "\u001b[36;1m\u001b[1;3m[...]\n",
      "boe)                   1.014905   \n",
      "195  Upstream Methane Intensity (kgCH4/boe)                   1.014905   \n",
      "196  Upstream Methane Intensity (kgCH4/boe)                   0.986529   \n",
      "\n",
      "    Supply Chain Segment          Emissions Metric  \n",
      "192             Upstream  [Intensity, (kgCH4/boe)]  \n",
      "193             Upstream  [Intensity, (kgCH4/boe)]  \n",
      "194             Upstream  [Intensity, (kgCH4/boe)]  \n",
      "195             Upstream  [Intensity, (kgCH4/boe)]  \n",
      "196             Upstream  [Intensity, (kgCH4/boe)]\n",
      "\u001b[0m\u001b[32;1m\u001b[1;3m\n",
      "Invoking: `python` with `{'code': \"# Join the words in the 'Emissions Metric' column together\\ninfo_small_melted['Emissions Metric'] = info_small_melted['Emissions Metric'].str.join(' ')\\n\\n# Display the first few rows of the data\\ninfo_small_melted.head()\"}`\n",
      "responded: {content}\n",
      "\n",
      "\u001b[0m# Join the words in the 'Emissions Metric' column together\n",
      "info_small_melted['Emissions Metric'] = info_small_melted['Emissions Metric'].str.join(' ')\n",
      "\n",
      "# Display the first few rows of the data\n",
      "info_small_melted.head()\n",
      "Running code:\n",
      " # Join the words in the 'Emissions Metric' column together\n",
      "info_small_melted['Emissions Metric'] = info_small_melted['Emissions Metric'].str.join(' ')\n",
      "\n",
      "# Display the first few rows of the data\n",
      "info_small_melted.head()\n",
      "Output:\n",
      " Field Name  Latitude  Longitude  gwp  \\\n",
      "192  Akshabulak   45.9528    65.7203   20   \n",
      "193  Akshabulak   45.9528    65.7203  100   \n",
      "194  Akshabulak   45.9528    65.7203   20   \n",
      "195  Akshabulak   45.9528    65.7203  100   \n",
      "196  Akshabulak   45.9528    65.7203   20   \n",
      "\n",
      "                                   Variable  Emissions Intensity Value  \\\n",
      "192  Upstream Methane Intensity (kgCH4/boe)                   0.822987   \n",
      "193  Upstream Methane Intensity (kgCH4/boe)                   0.822987   \n",
      "194  Upstream Methane Intensity (kgCH4/boe)                   1.014905   \n",
      "195  Upstream Methane Intensity (kgCH4/boe)                   1.014905   \n",
      "196  Upstream Methane Intensity (kgCH4/boe)                   0.986529   \n",
      "\n",
      "    Supply Chain Segment       Emissions Metric  \n",
      "192             Upstream  Intensity (kgCH4/boe)  \n",
      "193             Upstream  Intensity (kgCH4/boe)  \n",
      "194             Upstream  Intensity (kgCH4/boe)  \n",
      "195             Upstream  Intensity (kgCH4/boe)  \n",
      "196             Upstream  Intensity (kgCH4/boe)\n",
      "\n",
      "\u001b[36;1m\u001b[1;3m[...]\n",
      " Intensity (kgCH4/boe)                   1.014905   \n",
      "195  Upstream Methane Intensity (kgCH4/boe)                   1.014905   \n",
      "196  Upstream Methane Intensity (kgCH4/boe)                   0.986529   \n",
      "\n",
      "    Supply Chain Segment       Emissions Metric  \n",
      "192             Upstream  Intensity (kgCH4/boe)  \n",
      "193             Upstream  Intensity (kgCH4/boe)  \n",
      "194             Upstream  Intensity (kgCH4/boe)  \n",
      "195             Upstream  Intensity (kgCH4/boe)  \n",
      "196             Upstream  Intensity (kgCH4/boe)\n",
      "\u001b[0m\u001b[32;1m\u001b[1;3m\n",
      "Invoking: `python` with `{'code': \"# Correct the 'Emissions Metric' column\\ninfo_small_melted['Emissions Metric'] = info_small_melted['Variable'].str.split(' ').str[-2]\\n\\n# Display the first few rows of the data\\ninfo_small_melted.head()\"}`\n",
      "responded: {content}\n",
      "\n",
      "\u001b[0m# Correct the 'Emissions Metric' column\n",
      "info_small_melted['Emissions Metric'] = info_small_melted['Variable'].str.split(' ').str[-2]\n",
      "\n",
      "# Display the first few rows of the data\n",
      "info_small_melted.head()\n",
      "Running code:\n",
      " # Correct the 'Emissions Metric' column\n",
      "info_small_melted['Emissions Metric'] = info_small_melted['Variable'].str.split(' ').str[-2]\n",
      "\n",
      "# Display the first few rows of the data\n",
      "info_small_melted.head()\n",
      "Output:\n",
      " Field Name  Latitude  Longitude  gwp  \\\n",
      "192  Akshabulak   45.9528    65.7203   20   \n",
      "193  Akshabulak   45.9528    65.7203  100   \n",
      "194  Akshabulak   45.9528    65.7203   20   \n",
      "195  Akshabulak   45.9528    65.7203  100   \n",
      "196  Akshabulak   45.9528    65.7203   20   \n",
      "\n",
      "                                   Variable  Emissions Intensity Value  \\\n",
      "192  Upstream Methane Intensity (kgCH4/boe)                   0.822987   \n",
      "193  Upstream Methane Intensity (kgCH4/boe)                   0.822987   \n",
      "194  Upstream Methane Intensity (kgCH4/boe)                   1.014905   \n",
      "195  Upstream Methane Intensity (kgCH4/boe)                   1.014905   \n",
      "196  Upstream Methane Intensity (kgCH4/boe)                   0.986529   \n",
      "\n",
      "    Supply Chain Segment Emissions Metric  \n",
      "192             Upstream        Intensity  \n",
      "193             Upstream        Intensity  \n",
      "194             Upstream        Intensity  \n",
      "195             Upstream        Intensity  \n",
      "196             Upstream        Intensity\n",
      "\n",
      "\u001b[36;1m\u001b[1;3m[...]\n",
      "   0.822987   \n",
      "194  Upstream Methane Intensity (kgCH4/boe)                   1.014905   \n",
      "195  Upstream Methane Intensity (kgCH4/boe)                   1.014905   \n",
      "196  Upstream Methane Intensity (kgCH4/boe)                   0.986529   \n",
      "\n",
      "    Supply Chain Segment Emissions Metric  \n",
      "192             Upstream        Intensity  \n",
      "193             Upstream        Intensity  \n",
      "194             Upstream        Intensity  \n",
      "195             Upstream        Intensity  \n",
      "196             Upstream        Intensity\n",
      "\u001b[0m\u001b[32;1m\u001b[1;3m\u001b[0m\n",
      "\n",
      "\u001b[1m> Finished chain.\u001b[0m\n",
      "AI:  Agent stopped due to iteration limit or time limit.\n"
     ]
    },
    {
     "name": "stderr",
     "output_type": "stream",
     "text": [
      "[I 2023-08-25 17:59:57.148 KernelGatewayApp] Received signal to terminate.\n",
      "[I 2023-08-25 17:59:57.295 KernelGatewayApp] Kernel shutdown: cee0113c-340b-4eaf-8fa1-92f14f02414f\n"
     ]
    }
   ],
   "source": [
    "async def main():\n",
    "    # context manager for auto start/stop of the session\n",
    "    async with CodeInterpreterSession() as session:\n",
    "        # define the user request\n",
    "        user_request = \"Analyze this dataset. Do the following step to create a normalized table: \\\n",
    "        1. Clean the table of un ncessary columns\\\n",
    "        2. Melt the table by putting all CH4 and CO2eq emissions intensity values into a column called Emissions Intensity Value and put the melted columns names in another column called Variable. \\\n",
    "        2. Create a column to specify the supply chain segment (upstream, transport, midstream, downstream) and another column call emissions metric (CH4, CO2eq) based on Variable. \\\n",
    "        3. After the table is normalized, create an interaective dashboard that contains a basemap based on latitude and logitude data and a time series stacked bar charts. \\\n",
    "            Each bubble represent on Field and the Bubble size is based on the magnitude of the values of the sum of supply chain segments. \\\n",
    "                As users click on a bubble of the map, a field is selected to be shown on the stacked bar charts. For both map and bar charts, use emissions metric and gwp as toggles. \"\n",
    "        files = [\n",
    "            File.from_path(\"./info_small.csv\"),\n",
    "        ]\n",
    "\n",
    "        # generate the response\n",
    "        response = await session.generate_response(\n",
    "            user_request, files=files\n",
    "        )\n",
    "\n",
    "        # output to the user\n",
    "        print(\"AI: \", response.content)\n",
    "        for file in response.files:\n",
    "            file.show_image()\n",
    "\n",
    "await main()"
   ]
  },
  {
   "cell_type": "markdown",
   "metadata": {},
   "source": []
  },
  {
   "cell_type": "markdown",
   "metadata": {},
   "source": [
    "### Conclusion, the code interpreter api is not as powerful as the interactive GPT-4 model. \n",
    "It is not very good at cleaning data. Data need to be well cleaned before being visualized. I sent the above intruction to the online model and got much better results. See below for the code generated by the online model.\n"
   ]
  },
  {
   "cell_type": "markdown",
   "metadata": {},
   "source": [
    "### First try "
   ]
  },
  {
   "cell_type": "code",
   "execution_count": 38,
   "metadata": {},
   "outputs": [
    {
     "data": {
      "text/html": [
       "<div>\n",
       "<style scoped>\n",
       "    .dataframe tbody tr th:only-of-type {\n",
       "        vertical-align: middle;\n",
       "    }\n",
       "\n",
       "    .dataframe tbody tr th {\n",
       "        vertical-align: top;\n",
       "    }\n",
       "\n",
       "    .dataframe thead th {\n",
       "        text-align: right;\n",
       "    }\n",
       "</style>\n",
       "<table border=\"1\" class=\"dataframe\">\n",
       "  <thead>\n",
       "    <tr style=\"text-align: right;\">\n",
       "      <th></th>\n",
       "      <th>Unnamed: 0</th>\n",
       "      <th>Field Name</th>\n",
       "      <th>Year</th>\n",
       "      <th>gwp</th>\n",
       "      <th>Latitude</th>\n",
       "      <th>Longitude</th>\n",
       "      <th>Upstream Methane Intensity (kgCH4/boe)</th>\n",
       "      <th>Midstream Methane Intensity (kgCH4/boe)</th>\n",
       "      <th>Transport Methane Intensity (kgCH4/boe)</th>\n",
       "      <th>Downstream Methane Intensity (kgCH4/boe)</th>\n",
       "      <th>Upstream Emissions Intensity (kgCO2eq/boe)</th>\n",
       "      <th>Midstream Emissions Intensity (kgCO2eq/boe)</th>\n",
       "      <th>Transport Emissions Intensity (kgCO2eq/boe)</th>\n",
       "      <th>Downstream Emissions Intensity (kgCO2eq/boe)</th>\n",
       "    </tr>\n",
       "  </thead>\n",
       "  <tbody>\n",
       "    <tr>\n",
       "      <th>0</th>\n",
       "      <td>204</td>\n",
       "      <td>Akshabulak</td>\n",
       "      <td>2015</td>\n",
       "      <td>20</td>\n",
       "      <td>45.9528</td>\n",
       "      <td>65.7203</td>\n",
       "      <td>0.822987</td>\n",
       "      <td>0.008554</td>\n",
       "      <td>0.002257</td>\n",
       "      <td>0.019444</td>\n",
       "      <td>95.468690</td>\n",
       "      <td>31.993701</td>\n",
       "      <td>14.593556</td>\n",
       "      <td>364.050603</td>\n",
       "    </tr>\n",
       "    <tr>\n",
       "      <th>1</th>\n",
       "      <td>205</td>\n",
       "      <td>Akshabulak</td>\n",
       "      <td>2015</td>\n",
       "      <td>100</td>\n",
       "      <td>45.9528</td>\n",
       "      <td>65.7203</td>\n",
       "      <td>0.822987</td>\n",
       "      <td>0.008303</td>\n",
       "      <td>0.002257</td>\n",
       "      <td>0.019369</td>\n",
       "      <td>47.524325</td>\n",
       "      <td>31.325098</td>\n",
       "      <td>13.382811</td>\n",
       "      <td>363.038449</td>\n",
       "    </tr>\n",
       "    <tr>\n",
       "      <th>2</th>\n",
       "      <td>206</td>\n",
       "      <td>Akshabulak</td>\n",
       "      <td>2016</td>\n",
       "      <td>20</td>\n",
       "      <td>45.9528</td>\n",
       "      <td>65.7203</td>\n",
       "      <td>1.014905</td>\n",
       "      <td>0.008441</td>\n",
       "      <td>0.002256</td>\n",
       "      <td>0.019375</td>\n",
       "      <td>115.659452</td>\n",
       "      <td>31.783901</td>\n",
       "      <td>14.584203</td>\n",
       "      <td>363.651609</td>\n",
       "    </tr>\n",
       "    <tr>\n",
       "      <th>3</th>\n",
       "      <td>207</td>\n",
       "      <td>Akshabulak</td>\n",
       "      <td>2016</td>\n",
       "      <td>100</td>\n",
       "      <td>45.9528</td>\n",
       "      <td>65.7203</td>\n",
       "      <td>1.014905</td>\n",
       "      <td>0.008193</td>\n",
       "      <td>0.002256</td>\n",
       "      <td>0.019300</td>\n",
       "      <td>57.220011</td>\n",
       "      <td>31.118946</td>\n",
       "      <td>13.374401</td>\n",
       "      <td>362.642578</td>\n",
       "    </tr>\n",
       "    <tr>\n",
       "      <th>4</th>\n",
       "      <td>208</td>\n",
       "      <td>Akshabulak</td>\n",
       "      <td>2017</td>\n",
       "      <td>20</td>\n",
       "      <td>45.9528</td>\n",
       "      <td>65.7203</td>\n",
       "      <td>0.986529</td>\n",
       "      <td>0.008428</td>\n",
       "      <td>0.002255</td>\n",
       "      <td>0.019360</td>\n",
       "      <td>112.629583</td>\n",
       "      <td>31.717484</td>\n",
       "      <td>14.574327</td>\n",
       "      <td>363.396586</td>\n",
       "    </tr>\n",
       "  </tbody>\n",
       "</table>\n",
       "</div>"
      ],
      "text/plain": [
       "   Unnamed: 0  Field Name  Year  gwp  Latitude  Longitude  \\\n",
       "0         204  Akshabulak  2015   20   45.9528    65.7203   \n",
       "1         205  Akshabulak  2015  100   45.9528    65.7203   \n",
       "2         206  Akshabulak  2016   20   45.9528    65.7203   \n",
       "3         207  Akshabulak  2016  100   45.9528    65.7203   \n",
       "4         208  Akshabulak  2017   20   45.9528    65.7203   \n",
       "\n",
       "   Upstream Methane Intensity (kgCH4/boe)  \\\n",
       "0                                0.822987   \n",
       "1                                0.822987   \n",
       "2                                1.014905   \n",
       "3                                1.014905   \n",
       "4                                0.986529   \n",
       "\n",
       "   Midstream Methane Intensity (kgCH4/boe)  \\\n",
       "0                                 0.008554   \n",
       "1                                 0.008303   \n",
       "2                                 0.008441   \n",
       "3                                 0.008193   \n",
       "4                                 0.008428   \n",
       "\n",
       "   Transport Methane Intensity (kgCH4/boe)  \\\n",
       "0                                 0.002257   \n",
       "1                                 0.002257   \n",
       "2                                 0.002256   \n",
       "3                                 0.002256   \n",
       "4                                 0.002255   \n",
       "\n",
       "   Downstream Methane Intensity (kgCH4/boe)  \\\n",
       "0                                  0.019444   \n",
       "1                                  0.019369   \n",
       "2                                  0.019375   \n",
       "3                                  0.019300   \n",
       "4                                  0.019360   \n",
       "\n",
       "   Upstream Emissions Intensity (kgCO2eq/boe)  \\\n",
       "0                                   95.468690   \n",
       "1                                   47.524325   \n",
       "2                                  115.659452   \n",
       "3                                   57.220011   \n",
       "4                                  112.629583   \n",
       "\n",
       "   Midstream Emissions Intensity (kgCO2eq/boe)  \\\n",
       "0                                    31.993701   \n",
       "1                                    31.325098   \n",
       "2                                    31.783901   \n",
       "3                                    31.118946   \n",
       "4                                    31.717484   \n",
       "\n",
       "   Transport Emissions Intensity (kgCO2eq/boe)  \\\n",
       "0                                    14.593556   \n",
       "1                                    13.382811   \n",
       "2                                    14.584203   \n",
       "3                                    13.374401   \n",
       "4                                    14.574327   \n",
       "\n",
       "   Downstream Emissions Intensity (kgCO2eq/boe)  \n",
       "0                                    364.050603  \n",
       "1                                    363.038449  \n",
       "2                                    363.651609  \n",
       "3                                    362.642578  \n",
       "4                                    363.396586  "
      ]
     },
     "execution_count": 38,
     "metadata": {},
     "output_type": "execute_result"
    }
   ],
   "source": [
    "import pandas as pd\n",
    "\n",
    "# Read the dataset\n",
    "df = pd.read_csv('info_small.csv')\n",
    "\n",
    "# Display the first few rows of the dataset\n",
    "df.head()\n"
   ]
  },
  {
   "cell_type": "code",
   "execution_count": 39,
   "metadata": {},
   "outputs": [
    {
     "data": {
      "text/html": [
       "<div>\n",
       "<style scoped>\n",
       "    .dataframe tbody tr th:only-of-type {\n",
       "        vertical-align: middle;\n",
       "    }\n",
       "\n",
       "    .dataframe tbody tr th {\n",
       "        vertical-align: top;\n",
       "    }\n",
       "\n",
       "    .dataframe thead th {\n",
       "        text-align: right;\n",
       "    }\n",
       "</style>\n",
       "<table border=\"1\" class=\"dataframe\">\n",
       "  <thead>\n",
       "    <tr style=\"text-align: right;\">\n",
       "      <th></th>\n",
       "      <th>Field Name</th>\n",
       "      <th>Year</th>\n",
       "      <th>gwp</th>\n",
       "      <th>Latitude</th>\n",
       "      <th>Longitude</th>\n",
       "      <th>Variable</th>\n",
       "      <th>Emissions Intensity Value</th>\n",
       "    </tr>\n",
       "  </thead>\n",
       "  <tbody>\n",
       "    <tr>\n",
       "      <th>0</th>\n",
       "      <td>Akshabulak</td>\n",
       "      <td>2015</td>\n",
       "      <td>20</td>\n",
       "      <td>45.9528</td>\n",
       "      <td>65.7203</td>\n",
       "      <td>Upstream Methane Intensity (kgCH4/boe)</td>\n",
       "      <td>0.822987</td>\n",
       "    </tr>\n",
       "    <tr>\n",
       "      <th>1</th>\n",
       "      <td>Akshabulak</td>\n",
       "      <td>2015</td>\n",
       "      <td>100</td>\n",
       "      <td>45.9528</td>\n",
       "      <td>65.7203</td>\n",
       "      <td>Upstream Methane Intensity (kgCH4/boe)</td>\n",
       "      <td>0.822987</td>\n",
       "    </tr>\n",
       "    <tr>\n",
       "      <th>2</th>\n",
       "      <td>Akshabulak</td>\n",
       "      <td>2016</td>\n",
       "      <td>20</td>\n",
       "      <td>45.9528</td>\n",
       "      <td>65.7203</td>\n",
       "      <td>Upstream Methane Intensity (kgCH4/boe)</td>\n",
       "      <td>1.014905</td>\n",
       "    </tr>\n",
       "    <tr>\n",
       "      <th>3</th>\n",
       "      <td>Akshabulak</td>\n",
       "      <td>2016</td>\n",
       "      <td>100</td>\n",
       "      <td>45.9528</td>\n",
       "      <td>65.7203</td>\n",
       "      <td>Upstream Methane Intensity (kgCH4/boe)</td>\n",
       "      <td>1.014905</td>\n",
       "    </tr>\n",
       "    <tr>\n",
       "      <th>4</th>\n",
       "      <td>Akshabulak</td>\n",
       "      <td>2017</td>\n",
       "      <td>20</td>\n",
       "      <td>45.9528</td>\n",
       "      <td>65.7203</td>\n",
       "      <td>Upstream Methane Intensity (kgCH4/boe)</td>\n",
       "      <td>0.986529</td>\n",
       "    </tr>\n",
       "  </tbody>\n",
       "</table>\n",
       "</div>"
      ],
      "text/plain": [
       "   Field Name  Year  gwp  Latitude  Longitude  \\\n",
       "0  Akshabulak  2015   20   45.9528    65.7203   \n",
       "1  Akshabulak  2015  100   45.9528    65.7203   \n",
       "2  Akshabulak  2016   20   45.9528    65.7203   \n",
       "3  Akshabulak  2016  100   45.9528    65.7203   \n",
       "4  Akshabulak  2017   20   45.9528    65.7203   \n",
       "\n",
       "                                 Variable  Emissions Intensity Value  \n",
       "0  Upstream Methane Intensity (kgCH4/boe)                   0.822987  \n",
       "1  Upstream Methane Intensity (kgCH4/boe)                   0.822987  \n",
       "2  Upstream Methane Intensity (kgCH4/boe)                   1.014905  \n",
       "3  Upstream Methane Intensity (kgCH4/boe)                   1.014905  \n",
       "4  Upstream Methane Intensity (kgCH4/boe)                   0.986529  "
      ]
     },
     "execution_count": 39,
     "metadata": {},
     "output_type": "execute_result"
    }
   ],
   "source": [
    "# Drop the unnecessary column\n",
    "df.drop(columns=['Unnamed: 0'], inplace=True)\n",
    "\n",
    "# Melt the table based on the specified columns\n",
    "melted_df = df.melt(id_vars=['Field Name', 'Year', 'gwp', 'Latitude', 'Longitude'], \n",
    "                    value_vars=[\n",
    "                        'Upstream Methane Intensity (kgCH4/boe)',\n",
    "                        'Midstream Methane Intensity (kgCH4/boe)',\n",
    "                        'Transport Methane Intensity (kgCH4/boe)',\n",
    "                        'Downstream Methane Intensity (kgCH4/boe)',\n",
    "                        'Upstream Emissions Intensity (kgCO2eq/boe)',\n",
    "                        'Midstream Emissions Intensity (kgCO2eq/boe)',\n",
    "                        'Transport Emissions Intensity (kgCO2eq/boe)',\n",
    "                        'Downstream Emissions Intensity (kgCO2eq/boe)'\n",
    "                    ],\n",
    "                    var_name='Variable', \n",
    "                    value_name='Emissions Intensity Value')\n",
    "\n",
    "# Display the first few rows of the melted dataframe\n",
    "melted_df.head()\n"
   ]
  },
  {
   "cell_type": "code",
   "execution_count": 40,
   "metadata": {},
   "outputs": [
    {
     "data": {
      "text/html": [
       "<div>\n",
       "<style scoped>\n",
       "    .dataframe tbody tr th:only-of-type {\n",
       "        vertical-align: middle;\n",
       "    }\n",
       "\n",
       "    .dataframe tbody tr th {\n",
       "        vertical-align: top;\n",
       "    }\n",
       "\n",
       "    .dataframe thead th {\n",
       "        text-align: right;\n",
       "    }\n",
       "</style>\n",
       "<table border=\"1\" class=\"dataframe\">\n",
       "  <thead>\n",
       "    <tr style=\"text-align: right;\">\n",
       "      <th></th>\n",
       "      <th>Field Name</th>\n",
       "      <th>Year</th>\n",
       "      <th>gwp</th>\n",
       "      <th>Latitude</th>\n",
       "      <th>Longitude</th>\n",
       "      <th>Variable</th>\n",
       "      <th>Emissions Intensity Value</th>\n",
       "      <th>Supply Chain Segment</th>\n",
       "      <th>Emissions Metric</th>\n",
       "    </tr>\n",
       "  </thead>\n",
       "  <tbody>\n",
       "    <tr>\n",
       "      <th>0</th>\n",
       "      <td>Akshabulak</td>\n",
       "      <td>2015</td>\n",
       "      <td>20</td>\n",
       "      <td>45.9528</td>\n",
       "      <td>65.7203</td>\n",
       "      <td>Upstream Methane Intensity (kgCH4/boe)</td>\n",
       "      <td>0.822987</td>\n",
       "      <td>Upstream</td>\n",
       "      <td>CH4</td>\n",
       "    </tr>\n",
       "    <tr>\n",
       "      <th>1</th>\n",
       "      <td>Akshabulak</td>\n",
       "      <td>2015</td>\n",
       "      <td>100</td>\n",
       "      <td>45.9528</td>\n",
       "      <td>65.7203</td>\n",
       "      <td>Upstream Methane Intensity (kgCH4/boe)</td>\n",
       "      <td>0.822987</td>\n",
       "      <td>Upstream</td>\n",
       "      <td>CH4</td>\n",
       "    </tr>\n",
       "    <tr>\n",
       "      <th>2</th>\n",
       "      <td>Akshabulak</td>\n",
       "      <td>2016</td>\n",
       "      <td>20</td>\n",
       "      <td>45.9528</td>\n",
       "      <td>65.7203</td>\n",
       "      <td>Upstream Methane Intensity (kgCH4/boe)</td>\n",
       "      <td>1.014905</td>\n",
       "      <td>Upstream</td>\n",
       "      <td>CH4</td>\n",
       "    </tr>\n",
       "    <tr>\n",
       "      <th>3</th>\n",
       "      <td>Akshabulak</td>\n",
       "      <td>2016</td>\n",
       "      <td>100</td>\n",
       "      <td>45.9528</td>\n",
       "      <td>65.7203</td>\n",
       "      <td>Upstream Methane Intensity (kgCH4/boe)</td>\n",
       "      <td>1.014905</td>\n",
       "      <td>Upstream</td>\n",
       "      <td>CH4</td>\n",
       "    </tr>\n",
       "    <tr>\n",
       "      <th>4</th>\n",
       "      <td>Akshabulak</td>\n",
       "      <td>2017</td>\n",
       "      <td>20</td>\n",
       "      <td>45.9528</td>\n",
       "      <td>65.7203</td>\n",
       "      <td>Upstream Methane Intensity (kgCH4/boe)</td>\n",
       "      <td>0.986529</td>\n",
       "      <td>Upstream</td>\n",
       "      <td>CH4</td>\n",
       "    </tr>\n",
       "  </tbody>\n",
       "</table>\n",
       "</div>"
      ],
      "text/plain": [
       "   Field Name  Year  gwp  Latitude  Longitude  \\\n",
       "0  Akshabulak  2015   20   45.9528    65.7203   \n",
       "1  Akshabulak  2015  100   45.9528    65.7203   \n",
       "2  Akshabulak  2016   20   45.9528    65.7203   \n",
       "3  Akshabulak  2016  100   45.9528    65.7203   \n",
       "4  Akshabulak  2017   20   45.9528    65.7203   \n",
       "\n",
       "                                 Variable  Emissions Intensity Value  \\\n",
       "0  Upstream Methane Intensity (kgCH4/boe)                   0.822987   \n",
       "1  Upstream Methane Intensity (kgCH4/boe)                   0.822987   \n",
       "2  Upstream Methane Intensity (kgCH4/boe)                   1.014905   \n",
       "3  Upstream Methane Intensity (kgCH4/boe)                   1.014905   \n",
       "4  Upstream Methane Intensity (kgCH4/boe)                   0.986529   \n",
       "\n",
       "  Supply Chain Segment Emissions Metric  \n",
       "0             Upstream              CH4  \n",
       "1             Upstream              CH4  \n",
       "2             Upstream              CH4  \n",
       "3             Upstream              CH4  \n",
       "4             Upstream              CH4  "
      ]
     },
     "execution_count": 40,
     "metadata": {},
     "output_type": "execute_result"
    }
   ],
   "source": [
    "# Extracting supply chain segment and emissions metric from the Variable column\n",
    "melted_df['Supply Chain Segment'] = melted_df['Variable'].str.extract(r'(\\w+) ')[0]\n",
    "melted_df['Emissions Metric'] = melted_df['Variable'].str.extract(r'(CH4|CO2eq)')[0]\n",
    "\n",
    "# Display the first few rows of the dataframe after extraction\n",
    "melted_df.head()\n"
   ]
  },
  {
   "cell_type": "code",
   "execution_count": 41,
   "metadata": {},
   "outputs": [
    {
     "data": {
      "application/vnd.plotly.v1+json": {
       "config": {
        "plotlyServerURL": "https://plot.ly"
       },
       "data": [
        {
         "customdata": [
          [
           2015,
           20,
           506.959792731177
          ],
          [
           2015,
           100,
           456.12359843951924
          ],
          [
           2015,
           20,
           559.168852153822
          ],
          [
           2015,
           100,
           512.6126984812338
          ],
          [
           2015,
           20,
           467.5640042293361
          ],
          [
           2015,
           100,
           422.4270283995446
          ],
          [
           2015,
           20,
           491.47450091936446
          ],
          [
           2015,
           100,
           455.80896281558785
          ],
          [
           2015,
           20,
           647.2355699985405
          ],
          [
           2015,
           100,
           556.5074225531315
          ],
          [
           2015,
           20,
           508.77635999250606
          ],
          [
           2015,
           100,
           446.9634537606431
          ]
         ],
         "hovertemplate": "<b>%{hovertext}</b><br><br>Year=%{customdata[0]}<br>Emissions Intensity Value=%{marker.color}<br>Latitude=%{lat}<br>Longitude=%{lon}<br>gwp=%{customdata[1]}<extra></extra>",
         "hovertext": [
          "Akshabulak",
          "Akshabulak",
          "Kalamkas",
          "Kalamkas",
          "Karachaganak",
          "Karachaganak",
          "Tengiz",
          "Tengiz",
          "Uzen",
          "Uzen",
          "Zhanazhol",
          "Zhanazhol"
         ],
         "ids": [
          "Akshabulak",
          "Akshabulak",
          "Kalamkas",
          "Kalamkas",
          "Karachaganak",
          "Karachaganak",
          "Tengiz",
          "Tengiz",
          "Uzen",
          "Uzen",
          "Zhanazhol",
          "Zhanazhol"
         ],
         "lat": [
          45.9528,
          45.9528,
          45.3727,
          45.3727,
          51.3158,
          51.3158,
          46.091800000000006,
          46.091800000000006,
          43.4175,
          43.4175,
          48.3175,
          48.3175
         ],
         "legendgroup": "",
         "lon": [
          65.7203,
          65.7203,
          51.9286,
          51.9286,
          53.26,
          53.26,
          53.4322,
          53.4322,
          52.8658,
          52.8658,
          57.4417,
          57.4417
         ],
         "marker": {
          "color": [
           506.959792731177,
           456.12359843951924,
           559.168852153822,
           512.6126984812338,
           467.5640042293361,
           422.4270283995446,
           491.47450091936446,
           455.80896281558785,
           647.2355699985405,
           556.5074225531315,
           508.77635999250606,
           446.9634537606431
          ],
          "coloraxis": "coloraxis",
          "size": [
           506.959792731177,
           456.12359843951924,
           559.168852153822,
           512.6126984812338,
           467.5640042293361,
           422.4270283995446,
           491.47450091936446,
           455.80896281558785,
           647.2355699985405,
           556.5074225531315,
           508.77635999250606,
           446.9634537606431
          ],
          "sizemode": "area",
          "sizeref": 1.6180889249963513
         },
         "mode": "markers",
         "name": "",
         "showlegend": false,
         "subplot": "mapbox",
         "type": "scattermapbox"
        }
       ],
       "frames": [
        {
         "data": [
          {
           "customdata": [
            [
             2015,
             20,
             506.959792731177
            ],
            [
             2015,
             100,
             456.12359843951924
            ],
            [
             2015,
             20,
             559.168852153822
            ],
            [
             2015,
             100,
             512.6126984812338
            ],
            [
             2015,
             20,
             467.5640042293361
            ],
            [
             2015,
             100,
             422.4270283995446
            ],
            [
             2015,
             20,
             491.47450091936446
            ],
            [
             2015,
             100,
             455.80896281558785
            ],
            [
             2015,
             20,
             647.2355699985405
            ],
            [
             2015,
             100,
             556.5074225531315
            ],
            [
             2015,
             20,
             508.77635999250606
            ],
            [
             2015,
             100,
             446.9634537606431
            ]
           ],
           "hovertemplate": "<b>%{hovertext}</b><br><br>Year=%{customdata[0]}<br>Emissions Intensity Value=%{marker.color}<br>Latitude=%{lat}<br>Longitude=%{lon}<br>gwp=%{customdata[1]}<extra></extra>",
           "hovertext": [
            "Akshabulak",
            "Akshabulak",
            "Kalamkas",
            "Kalamkas",
            "Karachaganak",
            "Karachaganak",
            "Tengiz",
            "Tengiz",
            "Uzen",
            "Uzen",
            "Zhanazhol",
            "Zhanazhol"
           ],
           "ids": [
            "Akshabulak",
            "Akshabulak",
            "Kalamkas",
            "Kalamkas",
            "Karachaganak",
            "Karachaganak",
            "Tengiz",
            "Tengiz",
            "Uzen",
            "Uzen",
            "Zhanazhol",
            "Zhanazhol"
           ],
           "lat": [
            45.9528,
            45.9528,
            45.3727,
            45.3727,
            51.3158,
            51.3158,
            46.091800000000006,
            46.091800000000006,
            43.4175,
            43.4175,
            48.3175,
            48.3175
           ],
           "legendgroup": "",
           "lon": [
            65.7203,
            65.7203,
            51.9286,
            51.9286,
            53.26,
            53.26,
            53.4322,
            53.4322,
            52.8658,
            52.8658,
            57.4417,
            57.4417
           ],
           "marker": {
            "color": [
             506.959792731177,
             456.12359843951924,
             559.168852153822,
             512.6126984812338,
             467.5640042293361,
             422.4270283995446,
             491.47450091936446,
             455.80896281558785,
             647.2355699985405,
             556.5074225531315,
             508.77635999250606,
             446.9634537606431
            ],
            "coloraxis": "coloraxis",
            "size": [
             506.959792731177,
             456.12359843951924,
             559.168852153822,
             512.6126984812338,
             467.5640042293361,
             422.4270283995446,
             491.47450091936446,
             455.80896281558785,
             647.2355699985405,
             556.5074225531315,
             508.77635999250606,
             446.9634537606431
            ],
            "sizemode": "area",
            "sizeref": 1.6180889249963513
           },
           "mode": "markers",
           "name": "",
           "showlegend": false,
           "subplot": "mapbox",
           "type": "scattermapbox"
          }
         ],
         "name": "2015"
        },
        {
         "data": [
          {
           "customdata": [
            [
             2016,
             20,
             526.7241408296309
            ],
            [
             2016,
             100,
             465.4005898442032
            ],
            [
             2016,
             20,
             604.7920040172218
            ],
            [
             2016,
             100,
             534.0446929562073
            ],
            [
             2016,
             20,
             468.4165473478132
            ],
            [
             2016,
             100,
             422.4521774213242
            ],
            [
             2016,
             20,
             490.8013079607907
            ],
            [
             2016,
             100,
             455.27383983988045
            ],
            [
             2016,
             20,
             634.4123736475781
            ],
            [
             2016,
             100,
             550.1314331202718
            ],
            [
             2016,
             20,
             594.6895880552402
            ],
            [
             2016,
             100,
             477.2003098536492
            ]
           ],
           "hovertemplate": "<b>%{hovertext}</b><br><br>Year=%{customdata[0]}<br>Emissions Intensity Value=%{marker.color}<br>Latitude=%{lat}<br>Longitude=%{lon}<br>gwp=%{customdata[1]}<extra></extra>",
           "hovertext": [
            "Akshabulak",
            "Akshabulak",
            "Kalamkas",
            "Kalamkas",
            "Karachaganak",
            "Karachaganak",
            "Tengiz",
            "Tengiz",
            "Uzen",
            "Uzen",
            "Zhanazhol",
            "Zhanazhol"
           ],
           "ids": [
            "Akshabulak",
            "Akshabulak",
            "Kalamkas",
            "Kalamkas",
            "Karachaganak",
            "Karachaganak",
            "Tengiz",
            "Tengiz",
            "Uzen",
            "Uzen",
            "Zhanazhol",
            "Zhanazhol"
           ],
           "lat": [
            45.9528,
            45.9528,
            45.3727,
            45.3727,
            51.3158,
            51.3158,
            46.0918,
            46.0918,
            43.4175,
            43.4175,
            48.3175,
            48.3175
           ],
           "legendgroup": "",
           "lon": [
            65.7203,
            65.7203,
            51.9286,
            51.9286,
            53.26,
            53.26,
            53.4322,
            53.4322,
            52.8658,
            52.8658,
            57.4417,
            57.4417
           ],
           "marker": {
            "color": [
             526.7241408296309,
             465.4005898442032,
             604.7920040172218,
             534.0446929562073,
             468.4165473478132,
             422.4521774213242,
             490.8013079607907,
             455.27383983988045,
             634.4123736475781,
             550.1314331202718,
             594.6895880552402,
             477.2003098536492
            ],
            "coloraxis": "coloraxis",
            "size": [
             526.7241408296309,
             465.4005898442032,
             604.7920040172218,
             534.0446929562073,
             468.4165473478132,
             422.4521774213242,
             490.8013079607907,
             455.27383983988045,
             634.4123736475781,
             550.1314331202718,
             594.6895880552402,
             477.2003098536492
            ],
            "sizemode": "area",
            "sizeref": 1.6180889249963513
           },
           "mode": "markers",
           "name": "",
           "showlegend": false,
           "subplot": "mapbox",
           "type": "scattermapbox"
          }
         ],
         "name": "2016"
        },
        {
         "data": [
          {
           "customdata": [
            [
             2017,
             20,
             523.3345520070181
            ],
            [
             2017,
             100,
             463.52663786075
            ],
            [
             2017,
             20,
             598.5878233482788
            ],
            [
             2017,
             100,
             531.0557525071125
            ],
            [
             2017,
             20,
             467.047716554431
            ],
            [
             2017,
             100,
             422.48730506249933
            ],
            [
             2017,
             20,
             490.2741995733607
            ],
            [
             2017,
             100,
             455.0826711102073
            ],
            [
             2017,
             20,
             627.8844535370431
            ],
            [
             2017,
             100,
             546.8832924390213
            ],
            [
             2017,
             20,
             497.69714309906317
            ],
            [
             2017,
             100,
             435.3424285959291
            ]
           ],
           "hovertemplate": "<b>%{hovertext}</b><br><br>Year=%{customdata[0]}<br>Emissions Intensity Value=%{marker.color}<br>Latitude=%{lat}<br>Longitude=%{lon}<br>gwp=%{customdata[1]}<extra></extra>",
           "hovertext": [
            "Akshabulak",
            "Akshabulak",
            "Kalamkas",
            "Kalamkas",
            "Karachaganak",
            "Karachaganak",
            "Tengiz",
            "Tengiz",
            "Uzen",
            "Uzen",
            "Zhanazhol",
            "Zhanazhol"
           ],
           "ids": [
            "Akshabulak",
            "Akshabulak",
            "Kalamkas",
            "Kalamkas",
            "Karachaganak",
            "Karachaganak",
            "Tengiz",
            "Tengiz",
            "Uzen",
            "Uzen",
            "Zhanazhol",
            "Zhanazhol"
           ],
           "lat": [
            45.9528,
            45.9528,
            45.3727,
            45.3727,
            51.3158,
            51.3158,
            46.0918,
            46.0918,
            43.4175,
            43.4175,
            48.3175,
            48.3175
           ],
           "legendgroup": "",
           "lon": [
            65.7203,
            65.7203,
            51.9286,
            51.9286,
            53.26,
            53.26,
            53.4322,
            53.4322,
            52.8658,
            52.8658,
            57.4417,
            57.4417
           ],
           "marker": {
            "color": [
             523.3345520070181,
             463.52663786075,
             598.5878233482788,
             531.0557525071125,
             467.047716554431,
             422.48730506249933,
             490.2741995733607,
             455.0826711102073,
             627.8844535370431,
             546.8832924390213,
             497.69714309906317,
             435.3424285959291
            ],
            "coloraxis": "coloraxis",
            "size": [
             523.3345520070181,
             463.52663786075,
             598.5878233482788,
             531.0557525071125,
             467.047716554431,
             422.48730506249933,
             490.2741995733607,
             455.0826711102073,
             627.8844535370431,
             546.8832924390213,
             497.69714309906317,
             435.3424285959291
            ],
            "sizemode": "area",
            "sizeref": 1.6180889249963513
           },
           "mode": "markers",
           "name": "",
           "showlegend": false,
           "subplot": "mapbox",
           "type": "scattermapbox"
          }
         ],
         "name": "2017"
        },
        {
         "data": [
          {
           "customdata": [
            [
             2018,
             20,
             533.2559691869337
            ],
            [
             2018,
             100,
             468.54960620759834
            ],
            [
             2018,
             20,
             593.1499532141639
            ],
            [
             2018,
             100,
             528.4539880698408
            ],
            [
             2018,
             20,
             467.5600334351458
            ],
            [
             2018,
             100,
             422.5753680217729
            ],
            [
             2018,
             20,
             486.99185436920925
            ],
            [
             2018,
             100,
             451.9828225360339
            ],
            [
             2018,
             20,
             622.0713878795034
            ],
            [
             2018,
             100,
             543.9926308498328
            ],
            [
             2018,
             20,
             535.2089968864695
            ],
            [
             2018,
             100,
             447.655233554607
            ]
           ],
           "hovertemplate": "<b>%{hovertext}</b><br><br>Year=%{customdata[0]}<br>Emissions Intensity Value=%{marker.color}<br>Latitude=%{lat}<br>Longitude=%{lon}<br>gwp=%{customdata[1]}<extra></extra>",
           "hovertext": [
            "Akshabulak",
            "Akshabulak",
            "Kalamkas",
            "Kalamkas",
            "Karachaganak",
            "Karachaganak",
            "Tengiz",
            "Tengiz",
            "Uzen",
            "Uzen",
            "Zhanazhol",
            "Zhanazhol"
           ],
           "ids": [
            "Akshabulak",
            "Akshabulak",
            "Kalamkas",
            "Kalamkas",
            "Karachaganak",
            "Karachaganak",
            "Tengiz",
            "Tengiz",
            "Uzen",
            "Uzen",
            "Zhanazhol",
            "Zhanazhol"
           ],
           "lat": [
            45.9528,
            45.9528,
            45.3727,
            45.3727,
            51.3158,
            51.3158,
            46.0918,
            46.0918,
            43.4175,
            43.4175,
            48.31750000000001,
            48.31750000000001
           ],
           "legendgroup": "",
           "lon": [
            65.7203,
            65.7203,
            51.9286,
            51.9286,
            53.26,
            53.26,
            53.4322,
            53.4322,
            52.8658,
            52.8658,
            57.4417,
            57.4417
           ],
           "marker": {
            "color": [
             533.2559691869337,
             468.54960620759834,
             593.1499532141639,
             528.4539880698408,
             467.5600334351458,
             422.5753680217729,
             486.99185436920925,
             451.9828225360339,
             622.0713878795034,
             543.9926308498328,
             535.2089968864695,
             447.655233554607
            ],
            "coloraxis": "coloraxis",
            "size": [
             533.2559691869337,
             468.54960620759834,
             593.1499532141639,
             528.4539880698408,
             467.5600334351458,
             422.5753680217729,
             486.99185436920925,
             451.9828225360339,
             622.0713878795034,
             543.9926308498328,
             535.2089968864695,
             447.655233554607
            ],
            "sizemode": "area",
            "sizeref": 1.6180889249963513
           },
           "mode": "markers",
           "name": "",
           "showlegend": false,
           "subplot": "mapbox",
           "type": "scattermapbox"
          }
         ],
         "name": "2018"
        },
        {
         "data": [
          {
           "customdata": [
            [
             2019,
             20,
             503.1320111776311
            ],
            [
             2019,
             100,
             453.70333748158964
            ],
            [
             2019,
             20,
             587.8212061597907
            ],
            [
             2019,
             100,
             525.9089729583818
            ],
            [
             2019,
             20,
             468.7436825646702
            ],
            [
             2019,
             100,
             422.60306729295286
            ],
            [
             2019,
             20,
             486.3901677934782
            ],
            [
             2019,
             100,
             451.76824837481877
            ],
            [
             2019,
             20,
             616.3391944060711
            ],
            [
             2019,
             100,
             541.1427293536262
            ],
            [
             2019,
             20,
             534.1819281174979
            ],
            [
             2019,
             100,
             448.7910673521847
            ]
           ],
           "hovertemplate": "<b>%{hovertext}</b><br><br>Year=%{customdata[0]}<br>Emissions Intensity Value=%{marker.color}<br>Latitude=%{lat}<br>Longitude=%{lon}<br>gwp=%{customdata[1]}<extra></extra>",
           "hovertext": [
            "Akshabulak",
            "Akshabulak",
            "Kalamkas",
            "Kalamkas",
            "Karachaganak",
            "Karachaganak",
            "Tengiz",
            "Tengiz",
            "Uzen",
            "Uzen",
            "Zhanazhol",
            "Zhanazhol"
           ],
           "ids": [
            "Akshabulak",
            "Akshabulak",
            "Kalamkas",
            "Kalamkas",
            "Karachaganak",
            "Karachaganak",
            "Tengiz",
            "Tengiz",
            "Uzen",
            "Uzen",
            "Zhanazhol",
            "Zhanazhol"
           ],
           "lat": [
            45.9528,
            45.9528,
            45.3727,
            45.3727,
            51.3158,
            51.3158,
            46.0918,
            46.0918,
            43.4175,
            43.4175,
            48.3175,
            48.3175
           ],
           "legendgroup": "",
           "lon": [
            65.7203,
            65.7203,
            51.9286,
            51.9286,
            53.26,
            53.26,
            53.4322,
            53.4322,
            52.8658,
            52.8658,
            57.4417,
            57.4417
           ],
           "marker": {
            "color": [
             503.1320111776311,
             453.70333748158964,
             587.8212061597907,
             525.9089729583818,
             468.7436825646702,
             422.60306729295286,
             486.3901677934782,
             451.76824837481877,
             616.3391944060711,
             541.1427293536262,
             534.1819281174979,
             448.7910673521847
            ],
            "coloraxis": "coloraxis",
            "size": [
             503.1320111776311,
             453.70333748158964,
             587.8212061597907,
             525.9089729583818,
             468.7436825646702,
             422.60306729295286,
             486.3901677934782,
             451.76824837481877,
             616.3391944060711,
             541.1427293536262,
             534.1819281174979,
             448.7910673521847
            ],
            "sizemode": "area",
            "sizeref": 1.6180889249963513
           },
           "mode": "markers",
           "name": "",
           "showlegend": false,
           "subplot": "mapbox",
           "type": "scattermapbox"
          }
         ],
         "name": "2019"
        },
        {
         "data": [
          {
           "customdata": [
            [
             2020,
             20,
             491.87173825903506
            ],
            [
             2020,
             100,
             448.46827273057244
            ],
            [
             2020,
             20,
             588.2388022703591
            ],
            [
             2020,
             100,
             526.2275397750508
            ],
            [
             2020,
             20,
             466.370811128888
            ],
            [
             2020,
             100,
             422.92852582727824
            ],
            [
             2020,
             20,
             488.74783925844014
            ],
            [
             2020,
             100,
             453.99187337989605
            ],
            [
             2020,
             20,
             618.1037757783331
            ],
            [
             2020,
             100,
             543.7555084069108
            ],
            [
             2020,
             20,
             532.861338602212
            ],
            [
             2020,
             100,
             446.6655020511005
            ]
           ],
           "hovertemplate": "<b>%{hovertext}</b><br><br>Year=%{customdata[0]}<br>Emissions Intensity Value=%{marker.color}<br>Latitude=%{lat}<br>Longitude=%{lon}<br>gwp=%{customdata[1]}<extra></extra>",
           "hovertext": [
            "Akshabulak",
            "Akshabulak",
            "Kalamkas",
            "Kalamkas",
            "Karachaganak",
            "Karachaganak",
            "Tengiz",
            "Tengiz",
            "Uzen",
            "Uzen",
            "Zhanazhol",
            "Zhanazhol"
           ],
           "ids": [
            "Akshabulak",
            "Akshabulak",
            "Kalamkas",
            "Kalamkas",
            "Karachaganak",
            "Karachaganak",
            "Tengiz",
            "Tengiz",
            "Uzen",
            "Uzen",
            "Zhanazhol",
            "Zhanazhol"
           ],
           "lat": [
            45.9528,
            45.9528,
            45.3727,
            45.3727,
            51.3158,
            51.3158,
            46.0918,
            46.0918,
            43.4175,
            43.4175,
            48.31750000000001,
            48.31750000000001
           ],
           "legendgroup": "",
           "lon": [
            65.7203,
            65.7203,
            51.9286,
            51.9286,
            53.26,
            53.26,
            53.4322,
            53.4322,
            52.8658,
            52.8658,
            57.4417,
            57.4417
           ],
           "marker": {
            "color": [
             491.87173825903506,
             448.46827273057244,
             588.2388022703591,
             526.2275397750508,
             466.370811128888,
             422.92852582727824,
             488.74783925844014,
             453.99187337989605,
             618.1037757783331,
             543.7555084069108,
             532.861338602212,
             446.6655020511005
            ],
            "coloraxis": "coloraxis",
            "size": [
             491.87173825903506,
             448.46827273057244,
             588.2388022703591,
             526.2275397750508,
             466.370811128888,
             422.92852582727824,
             488.74783925844014,
             453.99187337989605,
             618.1037757783331,
             543.7555084069108,
             532.861338602212,
             446.6655020511005
            ],
            "sizemode": "area",
            "sizeref": 1.6180889249963513
           },
           "mode": "markers",
           "name": "",
           "showlegend": false,
           "subplot": "mapbox",
           "type": "scattermapbox"
          }
         ],
         "name": "2020"
        },
        {
         "data": [
          {
           "customdata": [
            [
             2021,
             20,
             500.6644814347991
            ],
            [
             2021,
             100,
             451.12023321241026
            ],
            [
             2021,
             20,
             588.7537650607338
            ],
            [
             2021,
             100,
             526.5949270883748
            ],
            [
             2021,
             20,
             465.3099193564552
            ],
            [
             2021,
             100,
             423.3090282433746
            ],
            [
             2021,
             20,
             492.2151275725516
            ],
            [
             2021,
             100,
             457.1605415215164
            ],
            [
             2021,
             20,
             618.1026750233883
            ],
            [
             2021,
             100,
             543.7551075305203
            ],
            [
             2021,
             20,
             533.5831094188488
            ],
            [
             2021,
             100,
             447.6709296289109
            ]
           ],
           "hovertemplate": "<b>%{hovertext}</b><br><br>Year=%{customdata[0]}<br>Emissions Intensity Value=%{marker.color}<br>Latitude=%{lat}<br>Longitude=%{lon}<br>gwp=%{customdata[1]}<extra></extra>",
           "hovertext": [
            "Akshabulak",
            "Akshabulak",
            "Kalamkas",
            "Kalamkas",
            "Karachaganak",
            "Karachaganak",
            "Tengiz",
            "Tengiz",
            "Uzen",
            "Uzen",
            "Zhanazhol",
            "Zhanazhol"
           ],
           "ids": [
            "Akshabulak",
            "Akshabulak",
            "Kalamkas",
            "Kalamkas",
            "Karachaganak",
            "Karachaganak",
            "Tengiz",
            "Tengiz",
            "Uzen",
            "Uzen",
            "Zhanazhol",
            "Zhanazhol"
           ],
           "lat": [
            45.9528,
            45.9528,
            45.3727,
            45.3727,
            51.3158,
            51.3158,
            46.0918,
            46.0918,
            43.4175,
            43.4175,
            48.3175,
            48.3175
           ],
           "legendgroup": "",
           "lon": [
            65.7203,
            65.7203,
            51.9286,
            51.9286,
            53.26,
            53.26,
            53.4322,
            53.4322,
            52.8658,
            52.8658,
            57.4417,
            57.4417
           ],
           "marker": {
            "color": [
             500.6644814347991,
             451.12023321241026,
             588.7537650607338,
             526.5949270883748,
             465.3099193564552,
             423.3090282433746,
             492.2151275725516,
             457.1605415215164,
             618.1026750233883,
             543.7551075305203,
             533.5831094188488,
             447.6709296289109
            ],
            "coloraxis": "coloraxis",
            "size": [
             500.6644814347991,
             451.12023321241026,
             588.7537650607338,
             526.5949270883748,
             465.3099193564552,
             423.3090282433746,
             492.2151275725516,
             457.1605415215164,
             618.1026750233883,
             543.7551075305203,
             533.5831094188488,
             447.6709296289109
            ],
            "sizemode": "area",
            "sizeref": 1.6180889249963513
           },
           "mode": "markers",
           "name": "",
           "showlegend": false,
           "subplot": "mapbox",
           "type": "scattermapbox"
          }
         ],
         "name": "2021"
        },
        {
         "data": [
          {
           "customdata": [
            [
             2022,
             20,
             497.47444097303037
            ],
            [
             2022,
             100,
             450.3412084005362
            ],
            [
             2022,
             20,
             589.2797189011744
            ],
            [
             2022,
             100,
             526.969286740462
            ],
            [
             2022,
             20,
             469.6566235582227
            ],
            [
             2022,
             100,
             422.9265328591614
            ],
            [
             2022,
             20,
             494.3140542406751
            ],
            [
             2022,
             100,
             459.1005733092462
            ],
            [
             2022,
             20,
             618.1353980118777
            ],
            [
             2022,
             100,
             543.7684292133634
            ],
            [
             2022,
             20,
             533.5966372287407
            ],
            [
             2022,
             100,
             447.44174244608485
            ]
           ],
           "hovertemplate": "<b>%{hovertext}</b><br><br>Year=%{customdata[0]}<br>Emissions Intensity Value=%{marker.color}<br>Latitude=%{lat}<br>Longitude=%{lon}<br>gwp=%{customdata[1]}<extra></extra>",
           "hovertext": [
            "Akshabulak",
            "Akshabulak",
            "Kalamkas",
            "Kalamkas",
            "Karachaganak",
            "Karachaganak",
            "Tengiz",
            "Tengiz",
            "Uzen",
            "Uzen",
            "Zhanazhol",
            "Zhanazhol"
           ],
           "ids": [
            "Akshabulak",
            "Akshabulak",
            "Kalamkas",
            "Kalamkas",
            "Karachaganak",
            "Karachaganak",
            "Tengiz",
            "Tengiz",
            "Uzen",
            "Uzen",
            "Zhanazhol",
            "Zhanazhol"
           ],
           "lat": [
            45.9528,
            45.9528,
            45.3727,
            45.3727,
            51.3158,
            51.3158,
            46.0918,
            46.0918,
            43.4175,
            43.4175,
            48.3175,
            48.3175
           ],
           "legendgroup": "",
           "lon": [
            65.7203,
            65.7203,
            51.9286,
            51.9286,
            53.26,
            53.26,
            53.4322,
            53.4322,
            52.8658,
            52.8658,
            57.4417,
            57.4417
           ],
           "marker": {
            "color": [
             497.47444097303037,
             450.3412084005362,
             589.2797189011744,
             526.969286740462,
             469.6566235582227,
             422.9265328591614,
             494.3140542406751,
             459.1005733092462,
             618.1353980118777,
             543.7684292133634,
             533.5966372287407,
             447.44174244608485
            ],
            "coloraxis": "coloraxis",
            "size": [
             497.47444097303037,
             450.3412084005362,
             589.2797189011744,
             526.969286740462,
             469.6566235582227,
             422.9265328591614,
             494.3140542406751,
             459.1005733092462,
             618.1353980118777,
             543.7684292133634,
             533.5966372287407,
             447.44174244608485
            ],
            "sizemode": "area",
            "sizeref": 1.6180889249963513
           },
           "mode": "markers",
           "name": "",
           "showlegend": false,
           "subplot": "mapbox",
           "type": "scattermapbox"
          }
         ],
         "name": "2022"
        }
       ],
       "layout": {
        "coloraxis": {
         "colorbar": {
          "title": {
           "text": "Emissions Intensity Value"
          }
         },
         "colorscale": [
          [
           0,
           "#0d0887"
          ],
          [
           0.1111111111111111,
           "#46039f"
          ],
          [
           0.2222222222222222,
           "#7201a8"
          ],
          [
           0.3333333333333333,
           "#9c179e"
          ],
          [
           0.4444444444444444,
           "#bd3786"
          ],
          [
           0.5555555555555556,
           "#d8576b"
          ],
          [
           0.6666666666666666,
           "#ed7953"
          ],
          [
           0.7777777777777778,
           "#fb9f3a"
          ],
          [
           0.8888888888888888,
           "#fdca26"
          ],
          [
           1,
           "#f0f921"
          ]
         ]
        },
        "legend": {
         "itemsizing": "constant",
         "tracegroupgap": 0
        },
        "mapbox": {
         "center": {
          "lat": 46.744683333333334,
          "lon": 55.774766666666665
         },
         "domain": {
          "x": [
           0,
           1
          ],
          "y": [
           0,
           1
          ]
         },
         "style": "open-street-map",
         "zoom": 1
        },
        "sliders": [
         {
          "active": 0,
          "currentvalue": {
           "prefix": "Year="
          },
          "len": 0.9,
          "pad": {
           "b": 10,
           "t": 60
          },
          "steps": [
           {
            "args": [
             [
              "2015"
             ],
             {
              "frame": {
               "duration": 0,
               "redraw": true
              },
              "fromcurrent": true,
              "mode": "immediate",
              "transition": {
               "duration": 0,
               "easing": "linear"
              }
             }
            ],
            "label": "2015",
            "method": "animate"
           },
           {
            "args": [
             [
              "2016"
             ],
             {
              "frame": {
               "duration": 0,
               "redraw": true
              },
              "fromcurrent": true,
              "mode": "immediate",
              "transition": {
               "duration": 0,
               "easing": "linear"
              }
             }
            ],
            "label": "2016",
            "method": "animate"
           },
           {
            "args": [
             [
              "2017"
             ],
             {
              "frame": {
               "duration": 0,
               "redraw": true
              },
              "fromcurrent": true,
              "mode": "immediate",
              "transition": {
               "duration": 0,
               "easing": "linear"
              }
             }
            ],
            "label": "2017",
            "method": "animate"
           },
           {
            "args": [
             [
              "2018"
             ],
             {
              "frame": {
               "duration": 0,
               "redraw": true
              },
              "fromcurrent": true,
              "mode": "immediate",
              "transition": {
               "duration": 0,
               "easing": "linear"
              }
             }
            ],
            "label": "2018",
            "method": "animate"
           },
           {
            "args": [
             [
              "2019"
             ],
             {
              "frame": {
               "duration": 0,
               "redraw": true
              },
              "fromcurrent": true,
              "mode": "immediate",
              "transition": {
               "duration": 0,
               "easing": "linear"
              }
             }
            ],
            "label": "2019",
            "method": "animate"
           },
           {
            "args": [
             [
              "2020"
             ],
             {
              "frame": {
               "duration": 0,
               "redraw": true
              },
              "fromcurrent": true,
              "mode": "immediate",
              "transition": {
               "duration": 0,
               "easing": "linear"
              }
             }
            ],
            "label": "2020",
            "method": "animate"
           },
           {
            "args": [
             [
              "2021"
             ],
             {
              "frame": {
               "duration": 0,
               "redraw": true
              },
              "fromcurrent": true,
              "mode": "immediate",
              "transition": {
               "duration": 0,
               "easing": "linear"
              }
             }
            ],
            "label": "2021",
            "method": "animate"
           },
           {
            "args": [
             [
              "2022"
             ],
             {
              "frame": {
               "duration": 0,
               "redraw": true
              },
              "fromcurrent": true,
              "mode": "immediate",
              "transition": {
               "duration": 0,
               "easing": "linear"
              }
             }
            ],
            "label": "2022",
            "method": "animate"
           }
          ],
          "x": 0.1,
          "xanchor": "left",
          "y": 0,
          "yanchor": "top"
         }
        ],
        "template": {
         "data": {
          "bar": [
           {
            "error_x": {
             "color": "#2a3f5f"
            },
            "error_y": {
             "color": "#2a3f5f"
            },
            "marker": {
             "line": {
              "color": "#E5ECF6",
              "width": 0.5
             },
             "pattern": {
              "fillmode": "overlay",
              "size": 10,
              "solidity": 0.2
             }
            },
            "type": "bar"
           }
          ],
          "barpolar": [
           {
            "marker": {
             "line": {
              "color": "#E5ECF6",
              "width": 0.5
             },
             "pattern": {
              "fillmode": "overlay",
              "size": 10,
              "solidity": 0.2
             }
            },
            "type": "barpolar"
           }
          ],
          "carpet": [
           {
            "aaxis": {
             "endlinecolor": "#2a3f5f",
             "gridcolor": "white",
             "linecolor": "white",
             "minorgridcolor": "white",
             "startlinecolor": "#2a3f5f"
            },
            "baxis": {
             "endlinecolor": "#2a3f5f",
             "gridcolor": "white",
             "linecolor": "white",
             "minorgridcolor": "white",
             "startlinecolor": "#2a3f5f"
            },
            "type": "carpet"
           }
          ],
          "choropleth": [
           {
            "colorbar": {
             "outlinewidth": 0,
             "ticks": ""
            },
            "type": "choropleth"
           }
          ],
          "contour": [
           {
            "colorbar": {
             "outlinewidth": 0,
             "ticks": ""
            },
            "colorscale": [
             [
              0,
              "#0d0887"
             ],
             [
              0.1111111111111111,
              "#46039f"
             ],
             [
              0.2222222222222222,
              "#7201a8"
             ],
             [
              0.3333333333333333,
              "#9c179e"
             ],
             [
              0.4444444444444444,
              "#bd3786"
             ],
             [
              0.5555555555555556,
              "#d8576b"
             ],
             [
              0.6666666666666666,
              "#ed7953"
             ],
             [
              0.7777777777777778,
              "#fb9f3a"
             ],
             [
              0.8888888888888888,
              "#fdca26"
             ],
             [
              1,
              "#f0f921"
             ]
            ],
            "type": "contour"
           }
          ],
          "contourcarpet": [
           {
            "colorbar": {
             "outlinewidth": 0,
             "ticks": ""
            },
            "type": "contourcarpet"
           }
          ],
          "heatmap": [
           {
            "colorbar": {
             "outlinewidth": 0,
             "ticks": ""
            },
            "colorscale": [
             [
              0,
              "#0d0887"
             ],
             [
              0.1111111111111111,
              "#46039f"
             ],
             [
              0.2222222222222222,
              "#7201a8"
             ],
             [
              0.3333333333333333,
              "#9c179e"
             ],
             [
              0.4444444444444444,
              "#bd3786"
             ],
             [
              0.5555555555555556,
              "#d8576b"
             ],
             [
              0.6666666666666666,
              "#ed7953"
             ],
             [
              0.7777777777777778,
              "#fb9f3a"
             ],
             [
              0.8888888888888888,
              "#fdca26"
             ],
             [
              1,
              "#f0f921"
             ]
            ],
            "type": "heatmap"
           }
          ],
          "heatmapgl": [
           {
            "colorbar": {
             "outlinewidth": 0,
             "ticks": ""
            },
            "colorscale": [
             [
              0,
              "#0d0887"
             ],
             [
              0.1111111111111111,
              "#46039f"
             ],
             [
              0.2222222222222222,
              "#7201a8"
             ],
             [
              0.3333333333333333,
              "#9c179e"
             ],
             [
              0.4444444444444444,
              "#bd3786"
             ],
             [
              0.5555555555555556,
              "#d8576b"
             ],
             [
              0.6666666666666666,
              "#ed7953"
             ],
             [
              0.7777777777777778,
              "#fb9f3a"
             ],
             [
              0.8888888888888888,
              "#fdca26"
             ],
             [
              1,
              "#f0f921"
             ]
            ],
            "type": "heatmapgl"
           }
          ],
          "histogram": [
           {
            "marker": {
             "pattern": {
              "fillmode": "overlay",
              "size": 10,
              "solidity": 0.2
             }
            },
            "type": "histogram"
           }
          ],
          "histogram2d": [
           {
            "colorbar": {
             "outlinewidth": 0,
             "ticks": ""
            },
            "colorscale": [
             [
              0,
              "#0d0887"
             ],
             [
              0.1111111111111111,
              "#46039f"
             ],
             [
              0.2222222222222222,
              "#7201a8"
             ],
             [
              0.3333333333333333,
              "#9c179e"
             ],
             [
              0.4444444444444444,
              "#bd3786"
             ],
             [
              0.5555555555555556,
              "#d8576b"
             ],
             [
              0.6666666666666666,
              "#ed7953"
             ],
             [
              0.7777777777777778,
              "#fb9f3a"
             ],
             [
              0.8888888888888888,
              "#fdca26"
             ],
             [
              1,
              "#f0f921"
             ]
            ],
            "type": "histogram2d"
           }
          ],
          "histogram2dcontour": [
           {
            "colorbar": {
             "outlinewidth": 0,
             "ticks": ""
            },
            "colorscale": [
             [
              0,
              "#0d0887"
             ],
             [
              0.1111111111111111,
              "#46039f"
             ],
             [
              0.2222222222222222,
              "#7201a8"
             ],
             [
              0.3333333333333333,
              "#9c179e"
             ],
             [
              0.4444444444444444,
              "#bd3786"
             ],
             [
              0.5555555555555556,
              "#d8576b"
             ],
             [
              0.6666666666666666,
              "#ed7953"
             ],
             [
              0.7777777777777778,
              "#fb9f3a"
             ],
             [
              0.8888888888888888,
              "#fdca26"
             ],
             [
              1,
              "#f0f921"
             ]
            ],
            "type": "histogram2dcontour"
           }
          ],
          "mesh3d": [
           {
            "colorbar": {
             "outlinewidth": 0,
             "ticks": ""
            },
            "type": "mesh3d"
           }
          ],
          "parcoords": [
           {
            "line": {
             "colorbar": {
              "outlinewidth": 0,
              "ticks": ""
             }
            },
            "type": "parcoords"
           }
          ],
          "pie": [
           {
            "automargin": true,
            "type": "pie"
           }
          ],
          "scatter": [
           {
            "fillpattern": {
             "fillmode": "overlay",
             "size": 10,
             "solidity": 0.2
            },
            "type": "scatter"
           }
          ],
          "scatter3d": [
           {
            "line": {
             "colorbar": {
              "outlinewidth": 0,
              "ticks": ""
             }
            },
            "marker": {
             "colorbar": {
              "outlinewidth": 0,
              "ticks": ""
             }
            },
            "type": "scatter3d"
           }
          ],
          "scattercarpet": [
           {
            "marker": {
             "colorbar": {
              "outlinewidth": 0,
              "ticks": ""
             }
            },
            "type": "scattercarpet"
           }
          ],
          "scattergeo": [
           {
            "marker": {
             "colorbar": {
              "outlinewidth": 0,
              "ticks": ""
             }
            },
            "type": "scattergeo"
           }
          ],
          "scattergl": [
           {
            "marker": {
             "colorbar": {
              "outlinewidth": 0,
              "ticks": ""
             }
            },
            "type": "scattergl"
           }
          ],
          "scattermapbox": [
           {
            "marker": {
             "colorbar": {
              "outlinewidth": 0,
              "ticks": ""
             }
            },
            "type": "scattermapbox"
           }
          ],
          "scatterpolar": [
           {
            "marker": {
             "colorbar": {
              "outlinewidth": 0,
              "ticks": ""
             }
            },
            "type": "scatterpolar"
           }
          ],
          "scatterpolargl": [
           {
            "marker": {
             "colorbar": {
              "outlinewidth": 0,
              "ticks": ""
             }
            },
            "type": "scatterpolargl"
           }
          ],
          "scatterternary": [
           {
            "marker": {
             "colorbar": {
              "outlinewidth": 0,
              "ticks": ""
             }
            },
            "type": "scatterternary"
           }
          ],
          "surface": [
           {
            "colorbar": {
             "outlinewidth": 0,
             "ticks": ""
            },
            "colorscale": [
             [
              0,
              "#0d0887"
             ],
             [
              0.1111111111111111,
              "#46039f"
             ],
             [
              0.2222222222222222,
              "#7201a8"
             ],
             [
              0.3333333333333333,
              "#9c179e"
             ],
             [
              0.4444444444444444,
              "#bd3786"
             ],
             [
              0.5555555555555556,
              "#d8576b"
             ],
             [
              0.6666666666666666,
              "#ed7953"
             ],
             [
              0.7777777777777778,
              "#fb9f3a"
             ],
             [
              0.8888888888888888,
              "#fdca26"
             ],
             [
              1,
              "#f0f921"
             ]
            ],
            "type": "surface"
           }
          ],
          "table": [
           {
            "cells": {
             "fill": {
              "color": "#EBF0F8"
             },
             "line": {
              "color": "white"
             }
            },
            "header": {
             "fill": {
              "color": "#C8D4E3"
             },
             "line": {
              "color": "white"
             }
            },
            "type": "table"
           }
          ]
         },
         "layout": {
          "annotationdefaults": {
           "arrowcolor": "#2a3f5f",
           "arrowhead": 0,
           "arrowwidth": 1
          },
          "autotypenumbers": "strict",
          "coloraxis": {
           "colorbar": {
            "outlinewidth": 0,
            "ticks": ""
           }
          },
          "colorscale": {
           "diverging": [
            [
             0,
             "#8e0152"
            ],
            [
             0.1,
             "#c51b7d"
            ],
            [
             0.2,
             "#de77ae"
            ],
            [
             0.3,
             "#f1b6da"
            ],
            [
             0.4,
             "#fde0ef"
            ],
            [
             0.5,
             "#f7f7f7"
            ],
            [
             0.6,
             "#e6f5d0"
            ],
            [
             0.7,
             "#b8e186"
            ],
            [
             0.8,
             "#7fbc41"
            ],
            [
             0.9,
             "#4d9221"
            ],
            [
             1,
             "#276419"
            ]
           ],
           "sequential": [
            [
             0,
             "#0d0887"
            ],
            [
             0.1111111111111111,
             "#46039f"
            ],
            [
             0.2222222222222222,
             "#7201a8"
            ],
            [
             0.3333333333333333,
             "#9c179e"
            ],
            [
             0.4444444444444444,
             "#bd3786"
            ],
            [
             0.5555555555555556,
             "#d8576b"
            ],
            [
             0.6666666666666666,
             "#ed7953"
            ],
            [
             0.7777777777777778,
             "#fb9f3a"
            ],
            [
             0.8888888888888888,
             "#fdca26"
            ],
            [
             1,
             "#f0f921"
            ]
           ],
           "sequentialminus": [
            [
             0,
             "#0d0887"
            ],
            [
             0.1111111111111111,
             "#46039f"
            ],
            [
             0.2222222222222222,
             "#7201a8"
            ],
            [
             0.3333333333333333,
             "#9c179e"
            ],
            [
             0.4444444444444444,
             "#bd3786"
            ],
            [
             0.5555555555555556,
             "#d8576b"
            ],
            [
             0.6666666666666666,
             "#ed7953"
            ],
            [
             0.7777777777777778,
             "#fb9f3a"
            ],
            [
             0.8888888888888888,
             "#fdca26"
            ],
            [
             1,
             "#f0f921"
            ]
           ]
          },
          "colorway": [
           "#636efa",
           "#EF553B",
           "#00cc96",
           "#ab63fa",
           "#FFA15A",
           "#19d3f3",
           "#FF6692",
           "#B6E880",
           "#FF97FF",
           "#FECB52"
          ],
          "font": {
           "color": "#2a3f5f"
          },
          "geo": {
           "bgcolor": "white",
           "lakecolor": "white",
           "landcolor": "#E5ECF6",
           "showlakes": true,
           "showland": true,
           "subunitcolor": "white"
          },
          "hoverlabel": {
           "align": "left"
          },
          "hovermode": "closest",
          "mapbox": {
           "style": "light"
          },
          "paper_bgcolor": "white",
          "plot_bgcolor": "#E5ECF6",
          "polar": {
           "angularaxis": {
            "gridcolor": "white",
            "linecolor": "white",
            "ticks": ""
           },
           "bgcolor": "#E5ECF6",
           "radialaxis": {
            "gridcolor": "white",
            "linecolor": "white",
            "ticks": ""
           }
          },
          "scene": {
           "xaxis": {
            "backgroundcolor": "#E5ECF6",
            "gridcolor": "white",
            "gridwidth": 2,
            "linecolor": "white",
            "showbackground": true,
            "ticks": "",
            "zerolinecolor": "white"
           },
           "yaxis": {
            "backgroundcolor": "#E5ECF6",
            "gridcolor": "white",
            "gridwidth": 2,
            "linecolor": "white",
            "showbackground": true,
            "ticks": "",
            "zerolinecolor": "white"
           },
           "zaxis": {
            "backgroundcolor": "#E5ECF6",
            "gridcolor": "white",
            "gridwidth": 2,
            "linecolor": "white",
            "showbackground": true,
            "ticks": "",
            "zerolinecolor": "white"
           }
          },
          "shapedefaults": {
           "line": {
            "color": "#2a3f5f"
           }
          },
          "ternary": {
           "aaxis": {
            "gridcolor": "white",
            "linecolor": "white",
            "ticks": ""
           },
           "baxis": {
            "gridcolor": "white",
            "linecolor": "white",
            "ticks": ""
           },
           "bgcolor": "#E5ECF6",
           "caxis": {
            "gridcolor": "white",
            "linecolor": "white",
            "ticks": ""
           }
          },
          "title": {
           "x": 0.05
          },
          "xaxis": {
           "automargin": true,
           "gridcolor": "white",
           "linecolor": "white",
           "ticks": "",
           "title": {
            "standoff": 15
           },
           "zerolinecolor": "white",
           "zerolinewidth": 2
          },
          "yaxis": {
           "automargin": true,
           "gridcolor": "white",
           "linecolor": "white",
           "ticks": "",
           "title": {
            "standoff": 15
           },
           "zerolinecolor": "white",
           "zerolinewidth": 2
          }
         }
        },
        "title": {
         "text": "Emissions Intensity by Field"
        },
        "updatemenus": [
         {
          "buttons": [
           {
            "args": [
             null,
             {
              "frame": {
               "duration": 500,
               "redraw": true
              },
              "fromcurrent": true,
              "mode": "immediate",
              "transition": {
               "duration": 500,
               "easing": "linear"
              }
             }
            ],
            "label": "&#9654;",
            "method": "animate"
           },
           {
            "args": [
             [
              null
             ],
             {
              "frame": {
               "duration": 0,
               "redraw": true
              },
              "fromcurrent": true,
              "mode": "immediate",
              "transition": {
               "duration": 0,
               "easing": "linear"
              }
             }
            ],
            "label": "&#9724;",
            "method": "animate"
           }
          ],
          "direction": "left",
          "pad": {
           "r": 10,
           "t": 70
          },
          "showactive": false,
          "type": "buttons",
          "x": 0.1,
          "xanchor": "right",
          "y": 0,
          "yanchor": "top"
         }
        ]
       }
      }
     },
     "metadata": {},
     "output_type": "display_data"
    }
   ],
   "source": [
    "import plotly.express as px\n",
    "\n",
    "# Group by Field Name, Latitude, Longitude, Year, and gwp to get the sum of emissions for each field\n",
    "grouped_df = melted_df.groupby(['Field Name', 'Latitude', 'Longitude', 'Year', 'gwp']).sum().reset_index()\n",
    "\n",
    "# Create a scatter mapbox\n",
    "fig_map = px.scatter_mapbox(\n",
    "    grouped_df,\n",
    "    lat=\"Latitude\",\n",
    "    lon=\"Longitude\",\n",
    "    size=\"Emissions Intensity Value\",\n",
    "    color=\"Emissions Intensity Value\",\n",
    "    hover_name=\"Field Name\",\n",
    "    hover_data=[\"Year\", \"gwp\", \"Emissions Intensity Value\"],\n",
    "    animation_frame=\"Year\",\n",
    "    animation_group=\"Field Name\",\n",
    "    color_continuous_scale=px.colors.sequential.Plasma,\n",
    "    size_max=20,\n",
    "    zoom=1,\n",
    "    title=\"Emissions Intensity by Field\"\n",
    ")\n",
    "\n",
    "# Use the open-street-map style\n",
    "fig_map.update_layout(mapbox_style=\"open-street-map\")\n",
    "\n",
    "fig_map.show()\n"
   ]
  },
  {
   "cell_type": "markdown",
   "metadata": {},
   "source": [
    "### Second Attemp"
   ]
  },
  {
   "cell_type": "code",
   "execution_count": 42,
   "metadata": {},
   "outputs": [],
   "source": [
    "import dash\n",
    "import dash_core_components as dcc\n",
    "import dash_html_components as html\n",
    "from dash.dependencies import Input, Output\n",
    "import plotly.express as px\n",
    "import pandas as pd\n"
   ]
  },
  {
   "cell_type": "code",
   "execution_count": 43,
   "metadata": {},
   "outputs": [],
   "source": [
    "# Create the initial map\n",
    "fig_map = px.scatter_mapbox(\n",
    "    grouped_df,\n",
    "    lat=\"Latitude\",\n",
    "    lon=\"Longitude\",\n",
    "    # ... (as before)\n",
    ")\n",
    "\n",
    "# Create the initial bar chart with total emissions\n",
    "fig_bar = px.bar(\n",
    "    melted_df,\n",
    "    x='Year',\n",
    "    y='Emissions Intensity Value',\n",
    "    color='Supply Chain Segment',\n",
    "    animation_frame='Year'\n",
    ")\n"
   ]
  },
  {
   "cell_type": "code",
   "execution_count": 44,
   "metadata": {},
   "outputs": [],
   "source": [
    "app = dash.Dash(__name__)\n",
    "\n",
    "app.layout = html.Div([\n",
    "    dcc.Graph(id='map', figure=fig_map),\n",
    "    dcc.Dropdown(\n",
    "        id='gwp-dropdown',\n",
    "        options=[{'label': i, 'value': i} for i in melted_df['gwp'].unique()],\n",
    "        value=20  # initial value\n",
    "    ),\n",
    "    dcc.Dropdown(\n",
    "        id='metric-dropdown',\n",
    "        options=[{'label': i, 'value': i} for i in melted_df['Emissions Metric'].unique()],\n",
    "        value='CH4'  # initial value\n",
    "    ),\n",
    "    dcc.Graph(id='bar-chart')\n",
    "])\n"
   ]
  },
  {
   "cell_type": "code",
   "execution_count": 45,
   "metadata": {},
   "outputs": [],
   "source": [
    "@app.callback(\n",
    "    Output('bar-chart', 'figure'),\n",
    "    [Input('map', 'clickData'),\n",
    "     Input('gwp-dropdown', 'value'),\n",
    "     Input('metric-dropdown', 'value')]\n",
    ")\n",
    "def update_bar_chart(clickData, selected_gwp, selected_metric):\n",
    "    # Filter data based on selected GWP and metric\n",
    "    filtered_df = melted_df[(melted_df['gwp'] == selected_gwp) & (melted_df['Emissions Metric'] == selected_metric)]\n",
    "    \n",
    "    # If a field is selected on the map\n",
    "    if clickData:\n",
    "        field_name = clickData['points'][0]['hovertext']\n",
    "        filtered_df = filtered_df[filtered_df['Field Name'] == field_name]\n",
    "        \n",
    "    # Create and return the new bar chart figure\n",
    "    fig_bar = px.bar(\n",
    "        filtered_df,\n",
    "        x='Year',\n",
    "        y='Emissions Intensity Value',\n",
    "        color='Supply Chain Segment',\n",
    "        animation_frame='Year'\n",
    "    )\n",
    "    return fig_bar\n"
   ]
  },
  {
   "cell_type": "code",
   "execution_count": 46,
   "metadata": {},
   "outputs": [
    {
     "data": {
      "text/html": [
       "\n",
       "        <iframe\n",
       "            width=\"100%\"\n",
       "            height=\"650\"\n",
       "            src=\"http://127.0.0.1:8050/\"\n",
       "            frameborder=\"0\"\n",
       "            allowfullscreen\n",
       "            \n",
       "        ></iframe>\n",
       "        "
      ],
      "text/plain": [
       "<IPython.lib.display.IFrame at 0x1693df250>"
      ]
     },
     "metadata": {},
     "output_type": "display_data"
    }
   ],
   "source": [
    "if __name__ == '__main__':\n",
    "    app.run_server(debug=True)\n"
   ]
  },
  {
   "cell_type": "markdown",
   "metadata": {},
   "source": [
    "### On third try, close to what I need."
   ]
  },
  {
   "cell_type": "code",
   "execution_count": 47,
   "metadata": {},
   "outputs": [
    {
     "data": {
      "text/html": [
       "\n",
       "        <iframe\n",
       "            width=\"100%\"\n",
       "            height=\"650\"\n",
       "            src=\"http://127.0.0.1:8050/\"\n",
       "            frameborder=\"0\"\n",
       "            allowfullscreen\n",
       "            \n",
       "        ></iframe>\n",
       "        "
      ],
      "text/plain": [
       "<IPython.lib.display.IFrame at 0x169677130>"
      ]
     },
     "metadata": {},
     "output_type": "display_data"
    }
   ],
   "source": [
    "# Import required libraries\n",
    "import dash\n",
    "import dash_core_components as dcc\n",
    "import dash_html_components as html\n",
    "from dash.dependencies import Input, Output\n",
    "import plotly.express as px\n",
    "import pandas as pd\n",
    "\n",
    "# Load the data (you can replace this part with the code to load your melted and grouped data)\n",
    "# ... (your data loading and melting code here)\n",
    "\n",
    "# Create initial map figure\n",
    "fig_map = px.scatter_mapbox(\n",
    "    grouped_df,  # Replace with your grouped DataFrame\n",
    "    lat=\"Latitude\",\n",
    "    lon=\"Longitude\",\n",
    "    size=\"Emissions Intensity Value\",\n",
    "    color=\"Emissions Intensity Value\",\n",
    "    hover_name=\"Field Name\",\n",
    "    hover_data=[\"Year\", \"gwp\", \"Emissions Intensity Value\"],\n",
    "    animation_frame=\"Year\",\n",
    "    animation_group=\"Field Name\",\n",
    "    color_continuous_scale=px.colors.sequential.Plasma,\n",
    "    size_max=20,\n",
    "    zoom=1,\n",
    "    title=\"Emissions Intensity by Field\"\n",
    ")\n",
    "fig_map.update_layout(mapbox_style=\"open-street-map\")\n",
    "\n",
    "# Initialize the Dash app\n",
    "app = dash.Dash(__name__)\n",
    "\n",
    "# Define the layout of the app\n",
    "app.layout = html.Div([\n",
    "    dcc.Graph(id='map', figure=fig_map),\n",
    "    dcc.Dropdown(\n",
    "        id='gwp-dropdown',\n",
    "        options=[{'label': i, 'value': i} for i in melted_df['gwp'].unique()],\n",
    "        value=20  # initial value\n",
    "    ),\n",
    "    dcc.Dropdown(\n",
    "        id='metric-dropdown',\n",
    "        options=[{'label': i, 'value': i} for i in melted_df['Emissions Metric'].unique()],\n",
    "        value='CH4'  # initial value\n",
    "    ),\n",
    "    dcc.Graph(id='bar-chart')\n",
    "])\n",
    "\n",
    "# Define callback to update bar chart\n",
    "@app.callback(\n",
    "    Output('bar-chart', 'figure'),\n",
    "    [Input('map', 'clickData'),\n",
    "     Input('gwp-dropdown', 'value'),\n",
    "     Input('metric-dropdown', 'value')]\n",
    ")\n",
    "def update_bar_chart(clickData, selected_gwp, selected_metric):\n",
    "    # Filter data based on selected GWP and metric\n",
    "    filtered_df = melted_df[(melted_df['gwp'] == selected_gwp) & (melted_df['Emissions Metric'] == selected_metric)]\n",
    "\n",
    "    # If a field is selected on the map\n",
    "    if clickData:\n",
    "        field_name = clickData['points'][0]['hovertext']\n",
    "        filtered_df = filtered_df[filtered_df['Field Name'] == field_name]\n",
    "\n",
    "    # Create and return the new bar chart figure\n",
    "    fig_bar = px.bar(\n",
    "        filtered_df,\n",
    "        x='Year',\n",
    "        y='Emissions Intensity Value',\n",
    "        color='Supply Chain Segment',\n",
    "        animation_frame='Year'\n",
    "    )\n",
    "    return fig_bar\n",
    "\n",
    "# Run the app\n",
    "if __name__ == '__main__':\n",
    "    app.run_server(debug=True)\n"
   ]
  },
  {
   "cell_type": "code",
   "execution_count": 48,
   "metadata": {},
   "outputs": [],
   "source": [
    "# Create initial map figure with animation frame\n",
    "fig_map = px.scatter_mapbox(\n",
    "    grouped_df,\n",
    "    lat=\"Latitude\",\n",
    "    lon=\"Longitude\",\n",
    "    size=\"Emissions Intensity Value\",\n",
    "    color=\"Emissions Intensity Value\",\n",
    "    hover_name=\"Field Name\",\n",
    "    hover_data=[\"Year\", \"gwp\", \"Emissions Intensity Value\"],\n",
    "    animation_frame=\"Year\",\n",
    "    color_continuous_scale=px.colors.sequential.Plasma,\n",
    "    size_max=20,\n",
    "    zoom=1,\n",
    "    title=\"Emissions Intensity by Field\"\n",
    ")\n",
    "fig_map.update_layout(mapbox_style=\"open-street-map\")\n",
    "\n",
    "# ... (The rest remains the same)\n",
    "\n",
    "# Define callback to update bar chart\n",
    "@app.callback(\n",
    "    Output('bar-chart', 'figure'),\n",
    "    [Input('map', 'clickData'),\n",
    "     Input('gwp-dropdown', 'value'),\n",
    "     Input('metric-dropdown', 'value')]\n",
    ")\n",
    "def update_bar_chart(clickData, selected_gwp, selected_metric):\n",
    "    # Filter data based on selected GWP and metric\n",
    "    filtered_df = melted_df[(melted_df['gwp'] == selected_gwp) & (melted_df['Emissions Metric'] == selected_metric)]\n",
    "\n",
    "    # If a field is selected on the map\n",
    "    if clickData:\n",
    "        field_name = clickData['points'][0]['hovertext']\n",
    "        filtered_df = filtered_df[filtered_df['Field Name'] == field_name]\n",
    "\n",
    "    # Create and return the new bar chart figure without animation frame\n",
    "    fig_bar = px.bar(\n",
    "        filtered_df,\n",
    "        x='Year',\n",
    "        y='Emissions Intensity Value',\n",
    "        color='Supply Chain Segment'\n",
    "    )\n",
    "    return fig_bar\n"
   ]
  },
  {
   "cell_type": "code",
   "execution_count": 49,
   "metadata": {},
   "outputs": [
    {
     "data": {
      "text/html": [
       "\n",
       "        <iframe\n",
       "            width=\"100%\"\n",
       "            height=\"650\"\n",
       "            src=\"http://127.0.0.1:8050/\"\n",
       "            frameborder=\"0\"\n",
       "            allowfullscreen\n",
       "            \n",
       "        ></iframe>\n",
       "        "
      ],
      "text/plain": [
       "<IPython.lib.display.IFrame at 0x1693b02e0>"
      ]
     },
     "metadata": {},
     "output_type": "display_data"
    }
   ],
   "source": [
    "# Import required libraries\n",
    "import dash\n",
    "import dash_core_components as dcc\n",
    "import dash_html_components as html\n",
    "from dash.dependencies import Input, Output\n",
    "import plotly.express as px\n",
    "import pandas as pd\n",
    "\n",
    "# Load the data (you can replace this part with the code to load your melted and grouped data)\n",
    "# ... (your data loading and melting code here)\n",
    "\n",
    "# Create initial map figure with animation frame\n",
    "fig_map = px.scatter_mapbox(\n",
    "    grouped_df,  # Replace with your grouped DataFrame\n",
    "    lat=\"Latitude\",\n",
    "    lon=\"Longitude\",\n",
    "    size=\"Emissions Intensity Value\",\n",
    "    color=\"Emissions Intensity Value\",\n",
    "    hover_name=\"Field Name\",\n",
    "    hover_data=[\"Year\", \"gwp\", \"Emissions Intensity Value\"],\n",
    "    animation_frame=\"Year\",\n",
    "    color_continuous_scale=px.colors.sequential.Plasma,\n",
    "    size_max=20,\n",
    "    zoom=1,\n",
    "    title=\"Emissions Intensity by Field\"\n",
    ")\n",
    "fig_map.update_layout(mapbox_style=\"open-street-map\")\n",
    "\n",
    "# Initialize the Dash app\n",
    "app = dash.Dash(__name__)\n",
    "\n",
    "# Define the layout of the app\n",
    "app.layout = html.Div([\n",
    "    dcc.Graph(id='map', figure=fig_map),\n",
    "    dcc.Dropdown(\n",
    "        id='gwp-dropdown',\n",
    "        options=[{'label': i, 'value': i} for i in melted_df['gwp'].unique()],\n",
    "        value=20  # initial value\n",
    "    ),\n",
    "    dcc.Dropdown(\n",
    "        id='metric-dropdown',\n",
    "        options=[{'label': i, 'value': i} for i in melted_df['Emissions Metric'].unique()],\n",
    "        value='CH4'  # initial value\n",
    "    ),\n",
    "    dcc.Graph(id='bar-chart')\n",
    "])\n",
    "\n",
    "# Define callback to update bar chart\n",
    "@app.callback(\n",
    "    Output('bar-chart', 'figure'),\n",
    "    [Input('map', 'clickData'),\n",
    "     Input('gwp-dropdown', 'value'),\n",
    "     Input('metric-dropdown', 'value')]\n",
    ")\n",
    "def update_bar_chart(clickData, selected_gwp, selected_metric):\n",
    "    # Filter data based on selected GWP and metric\n",
    "    filtered_df = melted_df[(melted_df['gwp'] == selected_gwp) & (melted_df['Emissions Metric'] == selected_metric)]\n",
    "\n",
    "    # If a field is selected on the map\n",
    "    if clickData:\n",
    "        field_name = clickData['points'][0]['hovertext']\n",
    "        filtered_df = filtered_df[filtered_df['Field Name'] == field_name]\n",
    "\n",
    "    # Create and return the new bar chart figure without animation frame\n",
    "    fig_bar = px.bar(\n",
    "        filtered_df,\n",
    "        x='Year',\n",
    "        y='Emissions Intensity Value',\n",
    "        color='Supply Chain Segment'\n",
    "    )\n",
    "    return fig_bar\n",
    "\n",
    "# Run the app\n",
    "if __name__ == '__main__':\n",
    "    app.run_server(debug=True)\n"
   ]
  },
  {
   "cell_type": "markdown",
   "metadata": {},
   "source": [
    "### On fourth try, I get exactly what I want."
   ]
  },
  {
   "cell_type": "code",
   "execution_count": 54,
   "metadata": {},
   "outputs": [
    {
     "data": {
      "text/html": [
       "\n",
       "        <iframe\n",
       "            width=\"100%\"\n",
       "            height=\"650\"\n",
       "            src=\"http://127.0.0.1:8050/\"\n",
       "            frameborder=\"0\"\n",
       "            allowfullscreen\n",
       "            \n",
       "        ></iframe>\n",
       "        "
      ],
      "text/plain": [
       "<IPython.lib.display.IFrame at 0x169588700>"
      ]
     },
     "metadata": {},
     "output_type": "display_data"
    }
   ],
   "source": [
    "# Import required libraries\n",
    "import dash\n",
    "import dash_core_components as dcc\n",
    "import dash_html_components as html\n",
    "from dash.dependencies import Input, Output\n",
    "import plotly.express as px\n",
    "import pandas as pd\n",
    "\n",
    "# Load the data (you can replace this part with the code to load your melted and grouped data)\n",
    "# ... (your data loading and melting code here)\n",
    "\n",
    "# Initialize the Dash app\n",
    "app = dash.Dash(__name__)\n",
    "\n",
    "# Define the layout of the app\n",
    "app.layout = html.Div([\n",
    "    dcc.Graph(id='map'),\n",
    "    dcc.Dropdown(\n",
    "        id='gwp-dropdown',\n",
    "        options=[{'label': i, 'value': i} for i in melted_df['gwp'].unique()],\n",
    "        value=20  # initial value\n",
    "    ),\n",
    "    dcc.Dropdown(\n",
    "        id='metric-dropdown',\n",
    "        options=[{'label': i, 'value': i} for i in melted_df['Emissions Metric'].unique()],\n",
    "        value='CH4'  # initial value\n",
    "    ),\n",
    "    dcc.Graph(id='bar-chart')\n",
    "])\n",
    "\n",
    "# Define callback to update both map and bar chart\n",
    "@app.callback(\n",
    "    [Output('map', 'figure'),\n",
    "     Output('bar-chart', 'figure')],\n",
    "    [Input('map', 'clickData'),\n",
    "     Input('gwp-dropdown', 'value'),\n",
    "     Input('metric-dropdown', 'value')]\n",
    ")\n",
    "def update_figures(clickData, selected_gwp, selected_metric):\n",
    "    # Filter data based on selected GWP and metric\n",
    "    filtered_df = melted_df[(melted_df['gwp'] == selected_gwp) & (melted_df['Emissions Metric'] == selected_metric)]\n",
    "    grouped_filtered_df = filtered_df.groupby(['Field Name', 'Latitude', 'Longitude', 'Year', 'gwp']).sum().reset_index()\n",
    "\n",
    "    # Create and return the new map figure\n",
    "    fig_map = px.scatter_mapbox(\n",
    "        grouped_filtered_df,\n",
    "        lat=\"Latitude\",\n",
    "        lon=\"Longitude\",\n",
    "        size=\"Emissions Intensity Value\",\n",
    "        color=\"Emissions Intensity Value\",\n",
    "        hover_name=\"Field Name\",\n",
    "        hover_data=[\"Year\", \"gwp\", \"Emissions Intensity Value\"],\n",
    "        animation_frame=\"Year\",\n",
    "        color_continuous_scale=px.colors.sequential.Plasma,\n",
    "        size_max=20,\n",
    "        zoom=1,\n",
    "        title=\"Emissions Intensity by Field\"\n",
    "    )\n",
    "    fig_map.update_layout(mapbox_style=\"open-street-map\")\n",
    "\n",
    "    # If a field is selected on the map\n",
    "    if clickData:\n",
    "        field_name = clickData['points'][0]['hovertext']\n",
    "        filtered_df = filtered_df[filtered_df['Field Name'] == field_name]\n",
    "\n",
    "    # Create and return the new bar chart figure\n",
    "    fig_bar = px.bar(\n",
    "        filtered_df,\n",
    "        x='Year',\n",
    "        y='Emissions Intensity Value',\n",
    "        color='Supply Chain Segment'\n",
    "    )\n",
    "\n",
    "    return fig_map, fig_bar\n",
    "\n",
    "# Run the app\n",
    "if __name__ == '__main__':\n",
    "    app.run_server(debug=True)\n"
   ]
  },
  {
   "cell_type": "markdown",
   "metadata": {},
   "source": [
    "### Please see my interaction with Chatgpt-4 in the link below:\n",
    "# https://chat.openai.com/share/af54cfed-831b-4dc8-b010-da51d9715956"
   ]
  },
  {
   "cell_type": "code",
   "execution_count": null,
   "metadata": {},
   "outputs": [],
   "source": []
  }
 ],
 "metadata": {
  "kernelspec": {
   "display_name": "Python 3",
   "language": "python",
   "name": "python3"
  },
  "language_info": {
   "codemirror_mode": {
    "name": "ipython",
    "version": 3
   },
   "file_extension": ".py",
   "mimetype": "text/x-python",
   "name": "python",
   "nbconvert_exporter": "python",
   "pygments_lexer": "ipython3",
   "version": "3.9.6"
  },
  "orig_nbformat": 4
 },
 "nbformat": 4,
 "nbformat_minor": 2
}
