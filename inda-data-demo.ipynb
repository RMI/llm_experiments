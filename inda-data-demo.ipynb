{
 "cells": [
  {
   "cell_type": "code",
   "execution_count": null,
   "metadata": {},
   "outputs": [],
   "source": [
    "# This is an unofficial open source project to interact with code interpreter\n",
    "#! pip3 install \"codeinterpreterapi[all]\""
   ]
  },
  {
   "cell_type": "code",
   "execution_count": null,
   "metadata": {},
   "outputs": [],
   "source": [
    "# Get OPENAI_API_KEY from user input\n",
    "from getpass import getpass\n",
    "OPENAI_API_KEY = getpass(\"Enter your API key: \")\n"
   ]
  },
  {
   "cell_type": "code",
   "execution_count": null,
   "metadata": {},
   "outputs": [],
   "source": [
    "import os\n",
    "os.environ[\"OPENAI_API_KEY\"] = OPENAI_API_KEY\n",
    "os.environ['VERBOSE'] = \"True\""
   ]
  },
  {
   "cell_type": "code",
   "execution_count": null,
   "metadata": {},
   "outputs": [],
   "source": [
    "import pandas as pd\n",
    "from codeinterpreterapi import CodeInterpreterSession, File"
   ]
  },
  {
   "cell_type": "code",
   "execution_count": null,
   "metadata": {},
   "outputs": [],
   "source": [
    "edgar = pd.read_csv('../WasteMAP/data/edgar_per_capita.csv')"
   ]
  },
  {
   "cell_type": "code",
   "execution_count": null,
   "metadata": {},
   "outputs": [],
   "source": [
    "edgar.head(1)"
   ]
  },
  {
   "cell_type": "code",
   "execution_count": null,
   "metadata": {},
   "outputs": [],
   "source": [
    "edgar_india = edgar[edgar['country iso3'] == 'IND']"
   ]
  },
  {
   "cell_type": "code",
   "execution_count": null,
   "metadata": {},
   "outputs": [],
   "source": [
    "edgar_india['source']='edgar'"
   ]
  },
  {
   "cell_type": "code",
   "execution_count": null,
   "metadata": {},
   "outputs": [],
   "source": [
    "unfccc = pd.read_csv('../WasteMAP/data/unfccc_per_capita.csv')"
   ]
  },
  {
   "cell_type": "code",
   "execution_count": null,
   "metadata": {},
   "outputs": [],
   "source": [
    "unfccc_india = unfccc[unfccc['country iso3'] == 'IND']"
   ]
  },
  {
   "cell_type": "code",
   "execution_count": null,
   "metadata": {},
   "outputs": [],
   "source": [
    "unfccc_india['source']='unfccc'"
   ]
  },
  {
   "cell_type": "code",
   "execution_count": null,
   "metadata": {},
   "outputs": [],
   "source": [
    "unfccc_india.shape"
   ]
  },
  {
   "cell_type": "code",
   "execution_count": null,
   "metadata": {},
   "outputs": [],
   "source": [
    "india = pd.concat([edgar_india, unfccc_india],axis=0)"
   ]
  },
  {
   "cell_type": "code",
   "execution_count": null,
   "metadata": {},
   "outputs": [],
   "source": [
    "india"
   ]
  },
  {
   "cell_type": "code",
   "execution_count": null,
   "metadata": {},
   "outputs": [],
   "source": [
    "india.to_csv('india.csv')"
   ]
  },
  {
   "cell_type": "code",
   "execution_count": null,
   "metadata": {},
   "outputs": [],
   "source": [
    "india"
   ]
  },
  {
   "cell_type": "code",
   "execution_count": null,
   "metadata": {},
   "outputs": [],
   "source": [
    "unfccc_india.dropna(axis=1, how='all')"
   ]
  },
  {
   "cell_type": "code",
   "execution_count": null,
   "metadata": {},
   "outputs": [],
   "source": [
    "cities = pd.read_csv('../WasteMAP/data/cities_for_map.csv')"
   ]
  },
  {
   "cell_type": "code",
   "execution_count": null,
   "metadata": {},
   "outputs": [],
   "source": [
    "india_cities = cities[cities['Country'] == 'India']"
   ]
  },
  {
   "cell_type": "code",
   "execution_count": null,
   "metadata": {},
   "outputs": [],
   "source": [
    "india_cities.columns.to_list()"
   ]
  },
  {
   "cell_type": "code",
   "execution_count": null,
   "metadata": {},
   "outputs": [],
   "source": [
    "india_cities.to_csv('india_cities.csv')"
   ]
  },
  {
   "cell_type": "code",
   "execution_count": null,
   "metadata": {},
   "outputs": [],
   "source": [
    "import dash\n",
    "import dash_core_components as dcc\n",
    "import dash_html_components as html\n",
    "from dash.dependencies import Input, Output\n",
    "import pandas as pd\n",
    "import plotly.express as px\n",
    "\n",
    "# Load the dataset\n",
    "df = pd.read_csv('india_cities.csv')\n",
    "\n",
    "# Initialize the Dash app\n",
    "app = dash.Dash(__name__)\n",
    "\n",
    "# Columns for waste components\n",
    "waste_component_cols = [\n",
    "    'Waste Components: Food (%)',\n",
    "    'Waste Components: Green (%)',\n",
    "    'Waste Components: Wood (%)',\n",
    "    'Waste Components: Paper and Cardboard (%)',\n",
    "    'Waste Components: Textiles (%)',\n",
    "    'Waste Components: Plastic (%)',\n",
    "    'Waste Components: Metal (%)',\n",
    "    'Waste Components: Glass (%)',\n",
    "    'Waste Components: Rubber/Leather (%)',\n",
    "    'Waste Components: Other (%)'\n",
    "]\n",
    "\n",
    "# Create the map\n",
    "fig_map = px.scatter_geo(df,\n",
    "                         lat='Latitude',\n",
    "                         lon='Longitude',\n",
    "                         hover_name='City',\n",
    "                         hover_data=['Input Data Source'],\n",
    "                         size='Emissions per Capita (kg CH4/person/year)',\n",
    "                         color='Emissions per Capita (kg CH4/person/year)',\n",
    "                         projection='orthographic',\n",
    "                         title='Emissions per Capita by City in India')\n",
    "\n",
    "# Create the layout of the app\n",
    "app.layout = html.Div([\n",
    "    html.H1(\"India Cities: Emissions and Waste Components\"),\n",
    "    \n",
    "    # Map\n",
    "    dcc.Graph(id='map', figure=fig_map),\n",
    "    \n",
    "    # Pie Chart\n",
    "    dcc.Graph(id='pie-chart')\n",
    "])\n",
    "\n",
    "# Callback to update pie chart based on selected city in map\n",
    "@app.callback(\n",
    "    Output('pie-chart', 'figure'),\n",
    "    [Input('map', 'clickData')]\n",
    ")\n",
    "def update_pie_chart(clickData):\n",
    "    if clickData is None:\n",
    "        return {}\n",
    "    \n",
    "    # Get clicked city\n",
    "    clicked_city = clickData['points'][0]['hovertext']\n",
    "    \n",
    "    # Filter data for clicked city\n",
    "    city_data = df[df['City'] == clicked_city]\n",
    "    \n",
    "    # Aggregate waste components\n",
    "    waste_data = city_data[waste_component_cols].mean()\n",
    "    \n",
    "    # Create pie chart\n",
    "    fig_pie = px.pie(waste_data.reset_index(), values=waste_data, names='index', title=f'Waste Components in {clicked_city}')\n",
    "    return fig_pie\n",
    "\n",
    "# Run the app\n",
    "if __name__ == '__main__':\n",
    "    app.run_server(debug=True)\n"
   ]
  },
  {
   "cell_type": "code",
   "execution_count": null,
   "metadata": {},
   "outputs": [],
   "source": [
    "import dash\n",
    "import dash_core_components as dcc\n",
    "import dash_html_components as html\n",
    "from dash.dependencies import Input, Output\n",
    "import pandas as pd\n",
    "import plotly.express as px\n",
    "\n",
    "# Load the dataset\n",
    "df = pd.read_csv('india_cities.csv')\n",
    "\n",
    "# Initialize the Dash app\n",
    "app = dash.Dash(__name__)\n",
    "\n",
    "# Columns for waste components\n",
    "waste_component_cols = [\n",
    "    'Waste Components: Food (%)',\n",
    "    'Waste Components: Green (%)',\n",
    "    'Waste Components: Wood (%)',\n",
    "    'Waste Components: Paper and Cardboard (%)',\n",
    "    'Waste Components: Textiles (%)',\n",
    "    'Waste Components: Plastic (%)',\n",
    "    'Waste Components: Metal (%)',\n",
    "    'Waste Components: Glass (%)',\n",
    "    'Waste Components: Rubber/Leather (%)',\n",
    "    'Waste Components: Other (%)'\n",
    "]\n",
    "\n",
    "# Create the map with appropriate basemap and zoom level\n",
    "fig_map = px.scatter_geo(df,\n",
    "                         lat='Latitude',\n",
    "                         lon='Longitude',\n",
    "                         hover_name='City',\n",
    "                         hover_data=['Input Data Source'],\n",
    "                         size='Emissions per Capita (kg CH4/person/year)',\n",
    "                         color='Emissions per Capita (kg CH4/person/year)',\n",
    "                         projection='mercator',\n",
    "                         title='Emissions per Capita by City in India',\n",
    "                         scope='asia',\n",
    "                         center={'lat': 20.5937, 'lon': 78.9629},\n",
    "                         height=600)\n",
    "\n",
    "# Create the layout of the app\n",
    "app.layout = html.Div([\n",
    "    html.H1(\"India Cities: Emissions and Waste Components\"),\n",
    "    \n",
    "    # Map\n",
    "    dcc.Graph(id='map', figure=fig_map),\n",
    "    \n",
    "    # Pie Chart\n",
    "    dcc.Graph(id='pie-chart')\n",
    "])\n",
    "\n",
    "# Callback to update pie chart based on selected city in map\n",
    "@app.callback(\n",
    "    Output('pie-chart', 'figure'),\n",
    "    [Input('map', 'clickData')]\n",
    ")\n",
    "def update_pie_chart(clickData):\n",
    "    if clickData is None:\n",
    "        return {}\n",
    "    \n",
    "    # Get clicked city\n",
    "    clicked_city = clickData['points'][0]['hovertext']\n",
    "    \n",
    "    # Filter data for clicked city\n",
    "    city_data = df[df['City'] == clicked_city]\n",
    "    \n",
    "    # Aggregate waste components\n",
    "    waste_data = city_data[waste_component_cols].mean()\n",
    "    \n",
    "    # Create pie chart\n",
    "    fig_pie = px.pie(waste_data.reset_index(), values=waste_data, names='index', title=f'Waste Components in {clicked_city}')\n",
    "    return fig_pie\n",
    "\n",
    "# Run the app\n",
    "if __name__ == '__main__':\n",
    "    app.run_server(debug=True)\n"
   ]
  },
  {
   "cell_type": "code",
   "execution_count": null,
   "metadata": {},
   "outputs": [],
   "source": [
    "sites = pd.read_csv('/Users/rwang/Documents/WasteMAP/data/sites_for_map.csv')"
   ]
  },
  {
   "cell_type": "code",
   "execution_count": null,
   "metadata": {},
   "outputs": [],
   "source": [
    "sites.head(1)"
   ]
  },
  {
   "cell_type": "code",
   "execution_count": null,
   "metadata": {},
   "outputs": [],
   "source": [
    "india_sites = sites[sites['Country'] == 'India']"
   ]
  },
  {
   "cell_type": "code",
   "execution_count": null,
   "metadata": {},
   "outputs": [],
   "source": [
    "len(india_sites['Site Name'].unique())"
   ]
  },
  {
   "cell_type": "code",
   "execution_count": null,
   "metadata": {},
   "outputs": [],
   "source": [
    "len(sites['Site Name'].unique())"
   ]
  },
  {
   "cell_type": "code",
   "execution_count": null,
   "metadata": {},
   "outputs": [],
   "source": [
    "india_sites.to_csv('india_sites.csv')"
   ]
  },
  {
   "cell_type": "code",
   "execution_count": null,
   "metadata": {},
   "outputs": [],
   "source": [
    "india_sites.head(1)"
   ]
  },
  {
   "cell_type": "code",
   "execution_count": null,
   "metadata": {},
   "outputs": [],
   "source": [
    "india_sites.columns"
   ]
  },
  {
   "cell_type": "code",
   "execution_count": null,
   "metadata": {},
   "outputs": [],
   "source": []
  },
  {
   "cell_type": "code",
   "execution_count": null,
   "metadata": {},
   "outputs": [],
   "source": []
  }
 ],
 "metadata": {
  "kernelspec": {
   "display_name": "Python 3",
   "language": "python",
   "name": "python3"
  },
  "language_info": {
   "codemirror_mode": {
    "name": "ipython",
    "version": 3
   },
   "file_extension": ".py",
   "mimetype": "text/x-python",
   "name": "python",
   "nbconvert_exporter": "python",
   "pygments_lexer": "ipython3",
   "version": "3.9.6"
  },
  "orig_nbformat": 4
 },
 "nbformat": 4,
 "nbformat_minor": 2
}
